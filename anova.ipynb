{
 "cells": [
  {
   "cell_type": "code",
   "execution_count": 1,
   "id": "6851ef61-4f66-4be1-be01-c99096eb150a",
   "metadata": {},
   "outputs": [],
   "source": [
    "import src.generators as generators\n",
    "import src.estimators as estimators\n",
    "\n",
    "repeat = 100"
   ]
  },
  {
   "cell_type": "markdown",
   "id": "db4218c8-a111-4f40-b3bb-582451a367a5",
   "metadata": {},
   "source": [
    "Comparison between the correlation dimension estimator and ANOVA."
   ]
  },
  {
   "cell_type": "markdown",
   "id": "83c7a93d-64df-4a9d-92aa-10853c4a7be2",
   "metadata": {},
   "source": [
    "*The numbers may be different that what is in the article, as the data sets are randomized at every execution of the program.*"
   ]
  },
  {
   "cell_type": "markdown",
   "id": "c2f9e715-12aa-402b-a5fc-9e4a1cd5c6ba",
   "metadata": {},
   "source": [
    "## Dimension 2"
   ]
  },
  {
   "cell_type": "markdown",
   "id": "ee9e2131-b5aa-4938-a6ae-68e9da5a5944",
   "metadata": {},
   "source": [
    "Correlation dimension"
   ]
  },
  {
   "cell_type": "code",
   "execution_count": 2,
   "id": "9f02045a-6c79-4d30-8120-c6f4d86db20c",
   "metadata": {
    "tags": []
   },
   "outputs": [
    {
     "name": "stdout",
     "output_type": "stream",
     "text": [
      "Rate of success: 92.0 %\n"
     ]
    }
   ],
   "source": [
    "results = []\n",
    "for i in range(repeat):\n",
    "    cloud = generators.clifford_torus_sample(n=76, dimension=2)\n",
    "    r = estimators.corsum(cloud, e1=0.78, e2=0.2, mute=True)\n",
    "    results.append(r)\n",
    "    print(\"Computing...\", 100*i/repeat, \"%\", end=\"\\r\")\n",
    "    \n",
    "count = 0\n",
    "for r in results:\n",
    "    if r>1.5 and r<2.5:\n",
    "        count += 1\n",
    "print(\"Rate of success:\", 100*count/repeat, \"%\")"
   ]
  },
  {
   "cell_type": "markdown",
   "id": "c1c40a7c-e448-4db4-9825-0f2e40478b81",
   "metadata": {},
   "source": [
    "ANOVA"
   ]
  },
  {
   "cell_type": "code",
   "execution_count": 3,
   "id": "91a4359b-ac7b-4f64-88d0-2df3b9413ee1",
   "metadata": {},
   "outputs": [
    {
     "name": "stdout",
     "output_type": "stream",
     "text": [
      "Rate of success: 66.0 %\n"
     ]
    }
   ],
   "source": [
    "results = []\n",
    "for i in range(repeat):\n",
    "    cloud = generators.clifford_torus_sample(n=76, dimension=2)\n",
    "    r = estimators.anova(cloud, eps=0.78, mute=True)\n",
    "    results.append(r)\n",
    "    print(\"Computing...\", 100*i/repeat, \"%\", end=\"\\r\")\n",
    "    \n",
    "count = 0\n",
    "for r in results:\n",
    "    if r>1.5 and r<2.5:\n",
    "        count += 1\n",
    "print(\"Rate of success:\", 100*count/repeat, \"%\")"
   ]
  },
  {
   "cell_type": "markdown",
   "id": "d3a3da64-4a6a-4301-9752-3de180949dc0",
   "metadata": {},
   "source": [
    "## Dimension 3"
   ]
  },
  {
   "cell_type": "markdown",
   "id": "be46b1b9-833d-4aef-8136-834c41d7caeb",
   "metadata": {},
   "source": [
    "Correlation dimension"
   ]
  },
  {
   "cell_type": "code",
   "execution_count": 4,
   "id": "920fe90e-6ae2-45a1-bddb-ccc788d37e3b",
   "metadata": {},
   "outputs": [
    {
     "name": "stdout",
     "output_type": "stream",
     "text": [
      "Rate of success: 93.0 %\n"
     ]
    }
   ],
   "source": [
    "results = []\n",
    "for i in range(repeat):\n",
    "    cloud = generators.clifford_torus_sample(n=347, dimension=3)\n",
    "    r = estimators.corsum(cloud, e1=0.63, e2=0.23, mute=True)\n",
    "    results.append(r)\n",
    "    print(\"Computing...\", 100*i/repeat, \"%\", end=\"\\r\")\n",
    "    \n",
    "count = 0\n",
    "for r in results:\n",
    "    if r>2.5 and r<3.5:\n",
    "        count += 1\n",
    "print(\"Rate of success:\", 100*count/repeat, \"%\")"
   ]
  },
  {
   "cell_type": "markdown",
   "id": "1e1b731b-65e3-45fe-8a1e-c0e5ec604ce6",
   "metadata": {},
   "source": [
    "ANOVA"
   ]
  },
  {
   "cell_type": "code",
   "execution_count": 5,
   "id": "9eb4c711-a665-4728-b2fd-4b1d0e0bb517",
   "metadata": {},
   "outputs": [
    {
     "name": "stdout",
     "output_type": "stream",
     "text": [
      "Rate of success: 81.0 %\n"
     ]
    }
   ],
   "source": [
    "results = []\n",
    "for i in range(repeat):\n",
    "    cloud = generators.clifford_torus_sample(n=347, dimension=3)\n",
    "    r = estimators.anova(cloud, eps=0.63, mute=True)\n",
    "    results.append(r)\n",
    "    print(\"Computing...\", 100*i/repeat, \"%\", end=\"\\r\")\n",
    "    \n",
    "count = 0\n",
    "for r in results:\n",
    "    if r>2.5 and r<3.5:\n",
    "        count += 1\n",
    "print(\"Rate of success:\", 100*count/repeat, \"%\")"
   ]
  },
  {
   "cell_type": "code",
   "execution_count": null,
   "id": "e0a34674-760f-400f-bcf9-7d46919deeb4",
   "metadata": {},
   "outputs": [],
   "source": []
  }
 ],
 "metadata": {
  "kernelspec": {
   "display_name": "Python 3",
   "language": "python",
   "name": "python3"
  },
  "language_info": {
   "codemirror_mode": {
    "name": "ipython",
    "version": 3
   },
   "file_extension": ".py",
   "mimetype": "text/x-python",
   "name": "python",
   "nbconvert_exporter": "python",
   "pygments_lexer": "ipython3",
   "version": "3.6.9"
  }
 },
 "nbformat": 4,
 "nbformat_minor": 5
}
