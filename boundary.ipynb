{
 "cells": [
  {
   "cell_type": "code",
   "execution_count": 1,
   "id": "6ffa977f-ecb5-442c-9fd9-9d62421c96a3",
   "metadata": {},
   "outputs": [],
   "source": [
    "import src.generators as generators\n",
    "import src.estimators as estimators"
   ]
  },
  {
   "cell_type": "markdown",
   "id": "93649796-0d3e-439f-9253-adbef4217959",
   "metadata": {},
   "source": [
    "## Uniform sampling in a box with and without boundary"
   ]
  },
  {
   "cell_type": "code",
   "execution_count": 2,
   "id": "78427240-2740-4c7a-8e34-5bd077a18fc1",
   "metadata": {},
   "outputs": [
    {
     "name": "stdout",
     "output_type": "stream",
     "text": [
      "without boundary\n",
      "There are 673 pairs of points at distance at most 0.54\n",
      "There are 19 pairs of points at distance at most 0.23\n",
      "The correlation dimension is 4.179670597625838\n"
     ]
    }
   ],
   "source": [
    "maxima=[3,3,3,3]\n",
    "cloud = generators.box_sample(n=500, dimension=4, maxima=maxima)\n",
    "print(\"without boundary\")\n",
    "d1 = estimators.corsum(cloud, e1=0.54, e2=0.23, torus=True, maxima=maxima)"
   ]
  },
  {
   "cell_type": "code",
   "execution_count": 3,
   "id": "ff40d144-39c6-4c87-864c-3d3677b4bb00",
   "metadata": {},
   "outputs": [
    {
     "name": "stdout",
     "output_type": "stream",
     "text": [
      "with boundary\n",
      "There are 501 pairs of points at distance at most 0.54\n",
      "There are 16 pairs of points at distance at most 0.23\n",
      "The correlation dimension is 4.035217825949042\n"
     ]
    }
   ],
   "source": [
    "print(\"with boundary\")\n",
    "d2 = estimators.corsum(cloud, e1=0.54, e2=0.23)"
   ]
  },
  {
   "cell_type": "markdown",
   "id": "ca3784ba-a93a-4b91-aadb-a279a13bba8c",
   "metadata": {},
   "source": [
    "## Statistics over 100 repetitions"
   ]
  },
  {
   "cell_type": "code",
   "execution_count": 4,
   "id": "996ab1b2-0509-4003-bf37-bb7f113d2423",
   "metadata": {},
   "outputs": [
    {
     "name": "stdout",
     "output_type": "stream",
     "text": [
      "Rate of success without boundary: 97.0 %\n",
      "Rate of success with boundary: 95.0 %\n"
     ]
    }
   ],
   "source": [
    "repeat = 100\n",
    "count = 0\n",
    "count2 = 0\n",
    "for i in range(repeat):\n",
    "    cloud = generators.box_sample(n=500, dimension=4, maxima=maxima)\n",
    "    r = estimators.corsum(cloud, e1=0.54, e2=0.23, torus=True, maxima=maxima, mute=True)\n",
    "    if r>3.5 and r<4.5:\n",
    "        count += 1\n",
    "    r2 = estimators.corsum(cloud, e1=0.54, e2=0.23, mute=True)\n",
    "    if r2>3.5 and r2<4.5:\n",
    "        count2 += 1\n",
    "    print(\"Computing...\", 100*i/repeat, \"%\", end=\"\\r\")\n",
    "print(\"Rate of success without boundary:\", 100*count/repeat, \"%\")\n",
    "print(\"Rate of success with boundary:\", 100*count2/repeat, \"%\")"
   ]
  }
 ],
 "metadata": {
  "kernelspec": {
   "display_name": "Python 3",
   "language": "python",
   "name": "python3"
  },
  "language_info": {
   "codemirror_mode": {
    "name": "ipython",
    "version": 3
   },
   "file_extension": ".py",
   "mimetype": "text/x-python",
   "name": "python",
   "nbconvert_exporter": "python",
   "pygments_lexer": "ipython3",
   "version": "3.8.2"
  }
 },
 "nbformat": 4,
 "nbformat_minor": 5
}
