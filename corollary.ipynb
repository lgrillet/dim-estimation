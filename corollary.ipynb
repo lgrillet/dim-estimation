{
 "cells": [
  {
   "cell_type": "code",
   "execution_count": 1,
   "id": "121fdf6f-5b51-4234-8932-5a145a537c91",
   "metadata": {},
   "outputs": [],
   "source": [
    "import src.paper as paper\n",
    "import pandas as pd\n",
    "from math import sqrt"
   ]
  },
  {
   "cell_type": "markdown",
   "id": "2cc4445d-b917-4333-a6d8-e2955743095c",
   "metadata": {},
   "source": [
    "## Formulas for the number of points needed"
   ]
  },
  {
   "cell_type": "code",
   "execution_count": 2,
   "id": "b129882e-8cbb-4813-8350-5a24e88f2a82",
   "metadata": {},
   "outputs": [],
   "source": [
    "# optimal scales for large volumes and 90% confidence level \n",
    "# dimension, epsilon 1, epsilon 2, alpha\n",
    "\n",
    "scales=[\n",
    "    [2, 0.93, 0.25, 0.08],\n",
    "    [3, 0.67, 0.24, 0.05],\n",
    "    [4, 0.54, 0.23, 0.04],\n",
    "    [5, 0.46, 0.22, 0.03],\n",
    "    [6, 0.40, 0.21, 0.03],\n",
    "    [7, 0.36, 0.21, 0.03],\n",
    "    [8, 0.33, 0.20, 0.02],\n",
    "    [9, 0.31, 0.19, 0.02],\n",
    "    [10, 0.29, 0.18, 0.01]\n",
    "        ]"
   ]
  },
  {
   "cell_type": "code",
   "execution_count": 3,
   "id": "022f1a00-d2ed-495f-ad19-0d9ab2400b46",
   "metadata": {},
   "outputs": [
    {
     "data": {
      "text/html": [
       "<div>\n",
       "<style scoped>\n",
       "    .dataframe tbody tr th:only-of-type {\n",
       "        vertical-align: middle;\n",
       "    }\n",
       "\n",
       "    .dataframe tbody tr th {\n",
       "        vertical-align: top;\n",
       "    }\n",
       "\n",
       "    .dataframe thead th {\n",
       "        text-align: right;\n",
       "    }\n",
       "</style>\n",
       "<table border=\"1\" class=\"dataframe\">\n",
       "  <thead>\n",
       "    <tr style=\"text-align: right;\">\n",
       "      <th></th>\n",
       "      <th>dimension</th>\n",
       "      <th>number of points</th>\n",
       "    </tr>\n",
       "  </thead>\n",
       "  <tbody>\n",
       "    <tr>\n",
       "      <th>0</th>\n",
       "      <td>2</td>\n",
       "      <td>417 + 54 * vol(M)^(1/2)</td>\n",
       "    </tr>\n",
       "    <tr>\n",
       "      <th>1</th>\n",
       "      <td>3</td>\n",
       "      <td>1711 + 142 * vol(M)^(1/2)</td>\n",
       "    </tr>\n",
       "    <tr>\n",
       "      <th>2</th>\n",
       "      <td>4</td>\n",
       "      <td>4178 + 388 * vol(M)^(1/2)</td>\n",
       "    </tr>\n",
       "    <tr>\n",
       "      <th>3</th>\n",
       "      <td>5</td>\n",
       "      <td>9350 + 1113 * vol(M)^(1/2)</td>\n",
       "    </tr>\n",
       "    <tr>\n",
       "      <th>4</th>\n",
       "      <td>6</td>\n",
       "      <td>13221 + 3366 * vol(M)^(1/2)</td>\n",
       "    </tr>\n",
       "    <tr>\n",
       "      <th>5</th>\n",
       "      <td>7</td>\n",
       "      <td>25138 + 10644 * vol(M)^(1/2)</td>\n",
       "    </tr>\n",
       "    <tr>\n",
       "      <th>6</th>\n",
       "      <td>8</td>\n",
       "      <td>50033 + 34890 * vol(M)^(1/2)</td>\n",
       "    </tr>\n",
       "    <tr>\n",
       "      <th>7</th>\n",
       "      <td>9</td>\n",
       "      <td>63876 + 119533 * vol(M)^(1/2)</td>\n",
       "    </tr>\n",
       "    <tr>\n",
       "      <th>8</th>\n",
       "      <td>10</td>\n",
       "      <td>139412 + 425554 * vol(M)^(1/2)</td>\n",
       "    </tr>\n",
       "  </tbody>\n",
       "</table>\n",
       "</div>"
      ],
      "text/plain": [
       "   dimension                number of points\n",
       "0          2         417 + 54 * vol(M)^(1/2)\n",
       "1          3       1711 + 142 * vol(M)^(1/2)\n",
       "2          4       4178 + 388 * vol(M)^(1/2)\n",
       "3          5      9350 + 1113 * vol(M)^(1/2)\n",
       "4          6     13221 + 3366 * vol(M)^(1/2)\n",
       "5          7    25138 + 10644 * vol(M)^(1/2)\n",
       "6          8    50033 + 34890 * vol(M)^(1/2)\n",
       "7          9   63876 + 119533 * vol(M)^(1/2)\n",
       "8         10  139412 + 425554 * vol(M)^(1/2)"
      ]
     },
     "execution_count": 3,
     "metadata": {},
     "output_type": "execute_result"
    }
   ],
   "source": [
    "# 90% confidence level \n",
    "delta=0.1\n",
    "\n",
    "# Compute a formula for a lower bound for the\n",
    "# number of points needed, depending on the volume\n",
    "# with the formula of Corollary XXX\n",
    "results = []\n",
    "for scale in scales:\n",
    "    d, e1, e2, alpha = scale\n",
    "    lower1, upper1 = paper.volume_ball(d,e1)\n",
    "    lower2, upper2 = paper.volume_ball(d,e2)\n",
    "    gap = paper.gap(d, e1, e2)\n",
    "    rho = delta * pow(1 - pow((e2/e1),gap/2), 2)\n",
    "    a1 = 1 + (1/(( alpha )*rho)) * pow((upper1/lower1)-1, 2)\n",
    "    a2 = 1 + (1/((1-alpha)*rho)) * pow((upper2/lower2)-1, 2)\n",
    "    a = int(max(a1,a2)+1)\n",
    "    b1 = sqrt(2/ (( alpha )*rho*lower1) )\n",
    "    b2 = sqrt(2/ ((1-alpha)*rho*lower2) )\n",
    "    b = int(max(b1,b2)+1)\n",
    "    results.append([d, str(a) + \" + \" + str(b) + \" * vol(M)^(1/2)\"])\n",
    "    \n",
    "pd.DataFrame(results, columns=[\"dimension\", \"number of points\"])"
   ]
  },
  {
   "cell_type": "code",
   "execution_count": null,
   "id": "a3199c9f-ab5e-4afa-b544-f15ba3b8552f",
   "metadata": {},
   "outputs": [],
   "source": []
  }
 ],
 "metadata": {
  "kernelspec": {
   "display_name": "Python 3",
   "language": "python",
   "name": "python3"
  },
  "language_info": {
   "codemirror_mode": {
    "name": "ipython",
    "version": 3
   },
   "file_extension": ".py",
   "mimetype": "text/x-python",
   "name": "python",
   "nbconvert_exporter": "python",
   "pygments_lexer": "ipython3",
   "version": "3.8.2"
  }
 },
 "nbformat": 4,
 "nbformat_minor": 5
}
