{
 "cells": [
  {
   "cell_type": "code",
   "execution_count": 1,
   "id": "aa824673-6881-4a17-a2eb-4bc5aea1ff80",
   "metadata": {},
   "outputs": [],
   "source": [
    "import src.generators as generators\n",
    "import src.estimators as estimators"
   ]
  },
  {
   "cell_type": "markdown",
   "id": "e5b07614-1121-4f1c-8e10-e11609a1f866",
   "metadata": {},
   "source": [
    "## Non-uniform distribution"
   ]
  },
  {
   "cell_type": "code",
   "execution_count": 2,
   "id": "dc312b4d-0f48-43e8-afb4-624ea5345d2b",
   "metadata": {},
   "outputs": [
    {
     "name": "stdout",
     "output_type": "stream",
     "text": [
      "There are 422 pairs of points at distance at most 0.54\n",
      "There are 16 pairs of points at distance at most 0.23\n",
      "The correlation dimension is 3.834160026676663\n"
     ]
    }
   ],
   "source": [
    "cloud1 = generators.gaussian_sample(n=500, dimension=4, sigmas=[1,1,1,1], maxima=[2,2,2,2])\n",
    "d1 = estimators.corsum(cloud1, e1=0.54, e2=0.23)"
   ]
  },
  {
   "cell_type": "markdown",
   "id": "d0873351-489f-475a-9008-d5f94fa70600",
   "metadata": {},
   "source": [
    "## Uniform distribution"
   ]
  },
  {
   "cell_type": "code",
   "execution_count": 3,
   "id": "c2b26ad5-1fe3-45d7-a99f-e58b0c3268ed",
   "metadata": {},
   "outputs": [
    {
     "name": "stdout",
     "output_type": "stream",
     "text": [
      "There are 182 pairs of points at distance at most 0.54\n",
      "There are 9 pairs of points at distance at most 0.23\n",
      "The correlation dimension is 3.522926696739993\n"
     ]
    }
   ],
   "source": [
    "cloud2 = generators.box_sample(n=500, dimension=4, maxima=[4,4,4,4])\n",
    "d2 = estimators.corsum(cloud2, e1=0.54, e2=0.23)"
   ]
  }
 ],
 "metadata": {
  "kernelspec": {
   "display_name": "Python 3",
   "language": "python",
   "name": "python3"
  },
  "language_info": {
   "codemirror_mode": {
    "name": "ipython",
    "version": 3
   },
   "file_extension": ".py",
   "mimetype": "text/x-python",
   "name": "python",
   "nbconvert_exporter": "python",
   "pygments_lexer": "ipython3",
   "version": "3.8.2"
  }
 },
 "nbformat": 4,
 "nbformat_minor": 5
}
