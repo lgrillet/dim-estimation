{
 "cells": [
  {
   "cell_type": "code",
   "execution_count": 1,
   "id": "3b95cacc-e350-42a7-a1db-0d72e7b0f0f8",
   "metadata": {},
   "outputs": [],
   "source": [
    "import src.paper as paper\n",
    "import pandas as pd"
   ]
  },
  {
   "cell_type": "markdown",
   "id": "c4a03821-3498-46f9-adb1-43d80331c543",
   "metadata": {},
   "source": [
    "## Compute the gap for different dimensions"
   ]
  },
  {
   "cell_type": "code",
   "execution_count": 2,
   "id": "c4ca8805-726c-432b-9d79-385123285cd9",
   "metadata": {},
   "outputs": [],
   "source": [
    "# Optimal scales for large volumes and 90% confidence level.\n",
    "# dimension, epsilon 1, epsilon 2\n",
    "\n",
    "scales=[\n",
    "    [2, 0.93, 0.25],\n",
    "    [3, 0.67, 0.24],\n",
    "    [4, 0.54, 0.23],\n",
    "    [5, 0.46, 0.22],\n",
    "    [6, 0.40, 0.21],\n",
    "    [7, 0.36, 0.21],\n",
    "    [8, 0.33, 0.2],\n",
    "    [9, 0.31, 0.19],\n",
    "    [10, 0.29, 0.18]\n",
    "        ]"
   ]
  },
  {
   "cell_type": "code",
   "execution_count": 3,
   "id": "d0a07e60-ed36-40ff-bc54-3048fb10be12",
   "metadata": {},
   "outputs": [
    {
     "data": {
      "text/html": [
       "<div>\n",
       "<style scoped>\n",
       "    .dataframe tbody tr th:only-of-type {\n",
       "        vertical-align: middle;\n",
       "    }\n",
       "\n",
       "    .dataframe tbody tr th {\n",
       "        vertical-align: top;\n",
       "    }\n",
       "\n",
       "    .dataframe thead th {\n",
       "        text-align: right;\n",
       "    }\n",
       "</style>\n",
       "<table border=\"1\" class=\"dataframe\">\n",
       "  <thead>\n",
       "    <tr style=\"text-align: right;\">\n",
       "      <th></th>\n",
       "      <th>dimension</th>\n",
       "      <th>epsilon 1</th>\n",
       "      <th>epsilon 2</th>\n",
       "      <th>gap</th>\n",
       "    </tr>\n",
       "  </thead>\n",
       "  <tbody>\n",
       "    <tr>\n",
       "      <th>0</th>\n",
       "      <td>2</td>\n",
       "      <td>0.93</td>\n",
       "      <td>0.25</td>\n",
       "      <td>0.331204</td>\n",
       "    </tr>\n",
       "    <tr>\n",
       "      <th>1</th>\n",
       "      <td>3</td>\n",
       "      <td>0.67</td>\n",
       "      <td>0.24</td>\n",
       "      <td>0.284378</td>\n",
       "    </tr>\n",
       "    <tr>\n",
       "      <th>2</th>\n",
       "      <td>4</td>\n",
       "      <td>0.54</td>\n",
       "      <td>0.23</td>\n",
       "      <td>0.249891</td>\n",
       "    </tr>\n",
       "    <tr>\n",
       "      <th>3</th>\n",
       "      <td>5</td>\n",
       "      <td>0.46</td>\n",
       "      <td>0.22</td>\n",
       "      <td>0.223958</td>\n",
       "    </tr>\n",
       "    <tr>\n",
       "      <th>4</th>\n",
       "      <td>6</td>\n",
       "      <td>0.40</td>\n",
       "      <td>0.21</td>\n",
       "      <td>0.208521</td>\n",
       "    </tr>\n",
       "    <tr>\n",
       "      <th>5</th>\n",
       "      <td>7</td>\n",
       "      <td>0.36</td>\n",
       "      <td>0.21</td>\n",
       "      <td>0.178814</td>\n",
       "    </tr>\n",
       "    <tr>\n",
       "      <th>6</th>\n",
       "      <td>8</td>\n",
       "      <td>0.33</td>\n",
       "      <td>0.20</td>\n",
       "      <td>0.166892</td>\n",
       "    </tr>\n",
       "    <tr>\n",
       "      <th>7</th>\n",
       "      <td>9</td>\n",
       "      <td>0.31</td>\n",
       "      <td>0.19</td>\n",
       "      <td>0.155560</td>\n",
       "    </tr>\n",
       "    <tr>\n",
       "      <th>8</th>\n",
       "      <td>10</td>\n",
       "      <td>0.29</td>\n",
       "      <td>0.18</td>\n",
       "      <td>0.152528</td>\n",
       "    </tr>\n",
       "  </tbody>\n",
       "</table>\n",
       "</div>"
      ],
      "text/plain": [
       "   dimension  epsilon 1  epsilon 2       gap\n",
       "0          2       0.93       0.25  0.331204\n",
       "1          3       0.67       0.24  0.284378\n",
       "2          4       0.54       0.23  0.249891\n",
       "3          5       0.46       0.22  0.223958\n",
       "4          6       0.40       0.21  0.208521\n",
       "5          7       0.36       0.21  0.178814\n",
       "6          8       0.33       0.20  0.166892\n",
       "7          9       0.31       0.19  0.155560\n",
       "8         10       0.29       0.18  0.152528"
      ]
     },
     "execution_count": 3,
     "metadata": {},
     "output_type": "execute_result"
    }
   ],
   "source": [
    "# Gaps computed with the result of Corollay XXX\n",
    "\n",
    "result = []\n",
    "for d, e1, e2 in scales:\n",
    "    g = paper.gap(d, e1, e2)\n",
    "    result.append([d, e1, e2, g])\n",
    "    \n",
    "pd.DataFrame(result, columns=[\"dimension\",\"epsilon 1\",\"epsilon 2\",\"gap\"])"
   ]
  },
  {
   "cell_type": "code",
   "execution_count": null,
   "id": "c864a443-a858-4f91-8697-4751b948e602",
   "metadata": {},
   "outputs": [],
   "source": []
  }
 ],
 "metadata": {
  "interpreter": {
   "hash": "31f2aee4e71d21fbe5cf8b01ff0e069b9275f58929596ceb00d14d90e3e16cd6"
  },
  "kernelspec": {
   "display_name": "Python 3",
   "language": "python",
   "name": "python3"
  },
  "language_info": {
   "codemirror_mode": {
    "name": "ipython",
    "version": 3
   },
   "file_extension": ".py",
   "mimetype": "text/x-python",
   "name": "python",
   "nbconvert_exporter": "python",
   "pygments_lexer": "ipython3",
   "version": "3.8.2"
  }
 },
 "nbformat": 4,
 "nbformat_minor": 5
}
