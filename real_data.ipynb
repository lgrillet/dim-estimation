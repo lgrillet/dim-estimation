{
 "cells": [
  {
   "cell_type": "code",
   "execution_count": 1,
   "id": "8a31a409-127d-43c6-8078-fd08727bc2b7",
   "metadata": {},
   "outputs": [],
   "source": [
    "import src.estimators as estimators\n",
    "from PIL import Image\n",
    "import numpy as np\n",
    "from math import sqrt\n",
    "import pandas as pd"
   ]
  },
  {
   "cell_type": "markdown",
   "id": "7438e25b-ea9a-40b0-b011-d4836bbaf68f",
   "metadata": {},
   "source": [
    "We load three datasets which are images of the 3D-model of a monkey with 1, 2 or 3 euler angles randomized."
   ]
  },
  {
   "cell_type": "code",
   "execution_count": 2,
   "id": "ffeb2205-060a-4b49-918e-51a1b9054f57",
   "metadata": {},
   "outputs": [],
   "source": [
    "monkey1 = np.zeros((100, 64*64))\n",
    "for i in range(100):\n",
    "    x = \"%04d.png\" % (i+1)\n",
    "    image = Image.open('monkey1/'+x)\n",
    "    monkey1[i] = np.asarray(image)[:,:,0].reshape(64*64)/256\n",
    "\n",
    "monkey2 = np.zeros((200, 64*64))\n",
    "for i in range(200):\n",
    "    x = \"%04d.png\" % (i+1)\n",
    "    image = Image.open('monkey2/'+x)\n",
    "    monkey2[i] = np.asarray(image)[:,:,0].reshape(64*64)/256\n",
    "\n",
    "monkey3 = np.zeros((200, 64*64))\n",
    "for i in range(200):\n",
    "    x = \"%04d.png\" % (i+1)\n",
    "    image = Image.open('monkey3/'+x)\n",
    "    monkey3[i] = np.asarray(image)[:,:,0].reshape(64*64)/256"
   ]
  },
  {
   "cell_type": "markdown",
   "id": "ca2f9211-2569-470b-b0c1-37e47f680d56",
   "metadata": {},
   "source": [
    "We now estimate the dimensions of these three datasets.\n",
    "\n",
    "The scaling factor $eps$ is chosen as small as possible to obtain more than the desired number of pairs."
   ]
  },
  {
   "cell_type": "code",
   "execution_count": 3,
   "id": "9a0729a6-be09-452d-8fa2-8d7965938129",
   "metadata": {},
   "outputs": [
    {
     "name": "stdout",
     "output_type": "stream",
     "text": [
      "There are 32 pairs of points at distance at most 0.8250000000000001\n",
      "There are 1 pairs of points at distance at most 0.07150000000000001\n",
      "74 points were used.\n",
      "The correlation dimension is 1.4170813393843216\n"
     ]
    }
   ],
   "source": [
    "eps = 0.55\n",
    "e1 = eps*1.5\n",
    "e2 = eps*0.13\n",
    "d = estimators.corsum(monkey1, e1, e2, pairs=30, noboxes=True)"
   ]
  },
  {
   "cell_type": "code",
   "execution_count": 4,
   "id": "f3abe8d0-69bc-45f4-a9bf-80a3aefe65d2",
   "metadata": {},
   "outputs": [
    {
     "name": "stdout",
     "output_type": "stream",
     "text": [
      "There are 122 pairs of points at distance at most 1.17\n",
      "There are 9 pairs of points at distance at most 0.30000000000000004\n",
      "191 points were used.\n",
      "The correlation dimension is 1.9153867576859787\n"
     ]
    }
   ],
   "source": [
    "eps = 1.5\n",
    "e1 = eps*0.78\n",
    "e2 = eps*0.2\n",
    "d = estimators.corsum(monkey2, e1, e2, pairs=122, noboxes=True)"
   ]
  },
  {
   "cell_type": "code",
   "execution_count": 5,
   "id": "a50b2fdd-53b5-47d1-8732-f1adc90bbf30",
   "metadata": {},
   "outputs": [
    {
     "name": "stdout",
     "output_type": "stream",
     "text": [
      "There are 253 pairs of points at distance at most 2.835\n",
      "There are 9 pairs of points at distance at most 1.0350000000000001\n",
      "190 points were used.\n",
      "The correlation dimension is 3.3108681883585764\n"
     ]
    }
   ],
   "source": [
    "eps = 4.5\n",
    "e1 = eps*0.63\n",
    "e2 = eps*0.23\n",
    "d = estimators.corsum(monkey3, e1, e2, pairs=249, noboxes=True)"
   ]
  },
  {
   "cell_type": "code",
   "execution_count": null,
   "id": "f3a02443-2af2-47fc-9290-50f2e3845fff",
   "metadata": {},
   "outputs": [],
   "source": []
  }
 ],
 "metadata": {
  "kernelspec": {
   "display_name": "Python 3",
   "language": "python",
   "name": "python3"
  },
  "language_info": {
   "codemirror_mode": {
    "name": "ipython",
    "version": 3
   },
   "file_extension": ".py",
   "mimetype": "text/x-python",
   "name": "python",
   "nbconvert_exporter": "python",
   "pygments_lexer": "ipython3",
   "version": "3.6.9"
  }
 },
 "nbformat": 4,
 "nbformat_minor": 5
}
