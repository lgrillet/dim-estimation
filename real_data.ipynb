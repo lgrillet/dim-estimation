{
 "cells": [
  {
   "cell_type": "code",
   "execution_count": 1,
   "id": "8a31a409-127d-43c6-8078-fd08727bc2b7",
   "metadata": {},
   "outputs": [],
   "source": [
    "import src.estimators as estimators\n",
    "from PIL import Image\n",
    "import numpy as np\n",
    "from math import sqrt, log, exp\n",
    "import pandas as pd\n",
    "import matplotlib\n",
    "import matplotlib.pyplot as plt\n",
    "matplotlib.rcParams['axes.unicode_minus'] = False"
   ]
  },
  {
   "cell_type": "markdown",
   "id": "7438e25b-ea9a-40b0-b011-d4836bbaf68f",
   "metadata": {},
   "source": [
    "We load three datasets which are images of the 3D-model of a monkey with 1, 2 or 3 euler angles randomized."
   ]
  },
  {
   "cell_type": "code",
   "execution_count": 2,
   "id": "ffeb2205-060a-4b49-918e-51a1b9054f57",
   "metadata": {},
   "outputs": [],
   "source": [
    "monkey1 = np.zeros((200, 64*64))\n",
    "for i in range(200):\n",
    "    x = \"%04d.png\" % (i+1)\n",
    "    image = Image.open('monkey1/'+x)\n",
    "    monkey1[i] = np.asarray(image)[:,:,0].reshape(64*64)/256\n",
    "\n",
    "monkey2 = np.zeros((200, 64*64))\n",
    "for i in range(200):\n",
    "    x = \"%04d.png\" % (i+1)\n",
    "    image = Image.open('monkey2/'+x)\n",
    "    monkey2[i] = np.asarray(image)[:,:,0].reshape(64*64)/256\n",
    "\n",
    "monkey3 = np.zeros((200, 64*64))\n",
    "for i in range(200):\n",
    "    x = \"%04d.png\" % (i+1)\n",
    "    image = Image.open('monkey3/'+x)\n",
    "    monkey3[i] = np.asarray(image)[:,:,0].reshape(64*64)/256"
   ]
  },
  {
   "cell_type": "markdown",
   "id": "ca2f9211-2569-470b-b0c1-37e47f680d56",
   "metadata": {},
   "source": [
    "We now estimate the dimensions of these three datasets.\n",
    "\n",
    "The scaling factor $eps$ is chosen as small as possible to obtain more than the desired number of pairs."
   ]
  },
  {
   "cell_type": "markdown",
   "id": "e41bd438-074f-4d3b-8e3a-084cdaf7f229",
   "metadata": {},
   "source": [
    "## 1 Euler angle randomized"
   ]
  },
  {
   "cell_type": "markdown",
   "id": "6de77cce-6723-4985-a724-f8d2f4a543eb",
   "metadata": {},
   "source": [
    "30 pairs"
   ]
  },
  {
   "cell_type": "code",
   "execution_count": 3,
   "id": "57a97619-0258-4b6f-ae4d-dbc3a577d3c8",
   "metadata": {},
   "outputs": [
    {
     "name": "stdout",
     "output_type": "stream",
     "text": [
      "There are 31 pairs of points at distance at most 0.07500000000000001\n",
      "There are 3 pairs of points at distance at most 0.009500000000000001\n",
      "The correlation dimension is 1.1302773598724403\n"
     ]
    }
   ],
   "source": [
    "eps = 0.05\n",
    "e1 = eps*1.5\n",
    "e2 = eps*0.19\n",
    "d = estimators.corsum(monkey1, e1, e2, noboxes=True)"
   ]
  },
  {
   "cell_type": "markdown",
   "id": "4c8dc193-ef74-419c-9d0f-0b5c6e7b4863",
   "metadata": {},
   "source": [
    "122 pairs"
   ]
  },
  {
   "cell_type": "code",
   "execution_count": 4,
   "id": "a98c63ff-83a3-4ff0-bf3e-3e5c85d662e9",
   "metadata": {},
   "outputs": [
    {
     "name": "stdout",
     "output_type": "stream",
     "text": [
      "There are 122 pairs of points at distance at most 0.1794\n",
      "There are 14 pairs of points at distance at most 0.046000000000000006\n",
      "The correlation dimension is 1.590742845738278\n"
     ]
    }
   ],
   "source": [
    "eps = 0.23\n",
    "e1 = eps*0.78\n",
    "e2 = eps*0.2\n",
    "d = estimators.corsum(monkey1, e1, e2, noboxes=True)"
   ]
  },
  {
   "cell_type": "markdown",
   "id": "b170a3e5-10a1-4e59-a9b9-0d3e9262bad4",
   "metadata": {},
   "source": [
    "249 pairs"
   ]
  },
  {
   "cell_type": "code",
   "execution_count": 5,
   "id": "020afbb1-b391-48be-8e76-d5a5ad25cafd",
   "metadata": {},
   "outputs": [
    {
     "name": "stdout",
     "output_type": "stream",
     "text": [
      "There are 247 pairs of points at distance at most 0.2772\n",
      "There are 47 pairs of points at distance at most 0.1012\n",
      "The correlation dimension is 1.646659416418789\n"
     ]
    }
   ],
   "source": [
    "eps = 0.44\n",
    "e1 = eps*0.63\n",
    "e2 = eps*0.23\n",
    "d = estimators.corsum(monkey1, e1, e2, noboxes=True)"
   ]
  },
  {
   "cell_type": "markdown",
   "id": "399c1dd5-1bc6-4574-aa76-55d1084dab81",
   "metadata": {},
   "source": [
    "516 pairs"
   ]
  },
  {
   "cell_type": "code",
   "execution_count": 6,
   "id": "b7d7a385-9bb4-47a3-a809-2a3f86bc7c97",
   "metadata": {},
   "outputs": [
    {
     "name": "stdout",
     "output_type": "stream",
     "text": [
      "There are 522 pairs of points at distance at most 0.4806\n",
      "There are 152 pairs of points at distance at most 0.20470000000000002\n",
      "The correlation dimension is 1.4455791068046342\n"
     ]
    }
   ],
   "source": [
    "eps = 0.89\n",
    "e1 = eps*0.54\n",
    "e2 = eps*0.23\n",
    "d = estimators.corsum(monkey1, e1, e2, noboxes=True)"
   ]
  },
  {
   "cell_type": "markdown",
   "id": "51d3cb7f-eba7-4ffe-b405-43a2c892829c",
   "metadata": {},
   "source": [
    "## 2 Euler angles randomized"
   ]
  },
  {
   "cell_type": "markdown",
   "id": "b1aa108b-860f-41e1-ab58-d342114e7a85",
   "metadata": {},
   "source": [
    "30 pairs"
   ]
  },
  {
   "cell_type": "code",
   "execution_count": 7,
   "id": "a33d4f2b-08ef-4985-a22f-e474c4d068e4",
   "metadata": {},
   "outputs": [
    {
     "name": "stdout",
     "output_type": "stream",
     "text": [
      "There are no pairs of points at distance 0.0988\n",
      "And 28 pairs of points at distance 0.78\n"
     ]
    }
   ],
   "source": [
    "eps = 0.52\n",
    "e1 = eps*1.5\n",
    "e2 = eps*0.19\n",
    "d = estimators.corsum(monkey2, e1, e2, noboxes=True)"
   ]
  },
  {
   "cell_type": "markdown",
   "id": "033f452d-5ac7-48a7-a5cd-858e9e5ee8f9",
   "metadata": {},
   "source": [
    "122 pairs"
   ]
  },
  {
   "cell_type": "code",
   "execution_count": 8,
   "id": "f3abe8d0-69bc-45f4-a9bf-80a3aefe65d2",
   "metadata": {},
   "outputs": [
    {
     "name": "stdout",
     "output_type": "stream",
     "text": [
      "There are 125 pairs of points at distance at most 1.6380000000000001\n",
      "There are 8 pairs of points at distance at most 0.42000000000000004\n",
      "The correlation dimension is 2.0197792454904855\n"
     ]
    }
   ],
   "source": [
    "eps = 2.1\n",
    "e1 = eps*0.78\n",
    "e2 = eps*0.2\n",
    "d = estimators.corsum(monkey2, e1, e2, noboxes=True)"
   ]
  },
  {
   "cell_type": "markdown",
   "id": "141851d3-77cc-4e63-82fb-cea5c820cf8a",
   "metadata": {},
   "source": [
    "249 pairs"
   ]
  },
  {
   "cell_type": "code",
   "execution_count": 9,
   "id": "2c5f2eb2-74a4-4c36-a44f-8e4a3b9d0df6",
   "metadata": {},
   "outputs": [
    {
     "name": "stdout",
     "output_type": "stream",
     "text": [
      "There are 240 pairs of points at distance at most 2.2680000000000002\n",
      "There are 31 pairs of points at distance at most 0.8280000000000001\n",
      "The correlation dimension is 2.031132827239829\n"
     ]
    }
   ],
   "source": [
    "eps = 3.6\n",
    "e1 = eps*0.63\n",
    "e2 = eps*0.23\n",
    "d = estimators.corsum(monkey2, e1, e2, noboxes=True)"
   ]
  },
  {
   "cell_type": "markdown",
   "id": "812fd7c6-263e-40a1-a458-c9d550525aad",
   "metadata": {},
   "source": [
    "516 pairs"
   ]
  },
  {
   "cell_type": "code",
   "execution_count": 10,
   "id": "56d1c7cf-c5ed-4ee4-b3d7-dcd5c1c3bfa7",
   "metadata": {},
   "outputs": [
    {
     "name": "stdout",
     "output_type": "stream",
     "text": [
      "There are 515 pairs of points at distance at most 3.1860000000000004\n",
      "There are 87 pairs of points at distance at most 1.3570000000000002\n",
      "The correlation dimension is 2.0835149033771856\n"
     ]
    }
   ],
   "source": [
    "eps = 5.9\n",
    "e1 = eps*0.54\n",
    "e2 = eps*0.23\n",
    "d = estimators.corsum(monkey2, e1, e2, noboxes=True)"
   ]
  },
  {
   "cell_type": "markdown",
   "id": "0b0458ca-d9b4-4305-ab38-3286233b0a70",
   "metadata": {},
   "source": [
    "## 3 Euler angles randomized"
   ]
  },
  {
   "cell_type": "markdown",
   "id": "f220e93d-b863-43d3-8774-8b57881dce44",
   "metadata": {},
   "source": [
    "30 pairs"
   ]
  },
  {
   "cell_type": "code",
   "execution_count": 11,
   "id": "3c1f42e9-7f38-41be-8f0a-b96d68e98ff4",
   "metadata": {},
   "outputs": [
    {
     "name": "stdout",
     "output_type": "stream",
     "text": [
      "There are no pairs of points at distance 0.28500000000000003\n",
      "And 28 pairs of points at distance 2.25\n"
     ]
    }
   ],
   "source": [
    "eps = 1.5\n",
    "e1 = eps*1.5\n",
    "e2 = eps*0.19\n",
    "d = estimators.corsum(monkey3, e1, e2, noboxes=True)"
   ]
  },
  {
   "cell_type": "markdown",
   "id": "ba0437c6-9461-4b3a-ae79-34a9b4753592",
   "metadata": {},
   "source": [
    "122 pairs"
   ]
  },
  {
   "cell_type": "code",
   "execution_count": 12,
   "id": "7a5f3c26-c8e9-4fdb-abc5-f5aa8d8aa6dc",
   "metadata": {},
   "outputs": [
    {
     "name": "stdout",
     "output_type": "stream",
     "text": [
      "There are 124 pairs of points at distance at most 3.5879999999999996\n",
      "There are 1 pairs of points at distance at most 0.9199999999999999\n",
      "The correlation dimension is 3.54178149101792\n"
     ]
    }
   ],
   "source": [
    "eps = 4.6\n",
    "e1 = eps*0.78\n",
    "e2 = eps*0.2\n",
    "d = estimators.corsum(monkey3, e1, e2, noboxes=True)"
   ]
  },
  {
   "cell_type": "markdown",
   "id": "737fbc67-8e18-43f7-9abc-65d61c6a5ef0",
   "metadata": {},
   "source": [
    "249 pairs"
   ]
  },
  {
   "cell_type": "code",
   "execution_count": 13,
   "id": "f5f9f8e5-df04-46f2-a842-17fd1a3bea9d",
   "metadata": {},
   "outputs": [
    {
     "name": "stdout",
     "output_type": "stream",
     "text": [
      "There are 257 pairs of points at distance at most 4.41\n",
      "There are 9 pairs of points at distance at most 1.61\n",
      "The correlation dimension is 3.32643583972315\n"
     ]
    }
   ],
   "source": [
    "eps = 7\n",
    "e1 = eps*0.63\n",
    "e2 = eps*0.23\n",
    "d = estimators.corsum(monkey3, e1, e2, noboxes=True)"
   ]
  },
  {
   "cell_type": "markdown",
   "id": "c9fb337b-ad61-40a6-a156-00a68c025815",
   "metadata": {},
   "source": [
    "516 pairs"
   ]
  },
  {
   "cell_type": "code",
   "execution_count": 14,
   "id": "9bb81044-3af8-45ba-8d92-be23b14a6c38",
   "metadata": {},
   "outputs": [
    {
     "name": "stdout",
     "output_type": "stream",
     "text": [
      "There are 508 pairs of points at distance at most 5.292000000000001\n",
      "There are 28 pairs of points at distance at most 2.2540000000000004\n",
      "The correlation dimension is 3.395795513165663\n"
     ]
    }
   ],
   "source": [
    "eps = 9.8\n",
    "e1 = eps*0.54\n",
    "e2 = eps*0.23\n",
    "d = estimators.corsum(monkey3, e1, e2, noboxes=True)"
   ]
  },
  {
   "cell_type": "markdown",
   "id": "9ad05719-83b7-408d-a725-9a707f57490d",
   "metadata": {},
   "source": [
    "# Log-log plots"
   ]
  },
  {
   "cell_type": "markdown",
   "id": "c0dbed23-01ba-4bef-84c1-f695bf1fd004",
   "metadata": {},
   "source": [
    "Data set 1"
   ]
  },
  {
   "cell_type": "code",
   "execution_count": 15,
   "id": "0974278d-4da6-437a-8a94-dd501dfab49c",
   "metadata": {},
   "outputs": [
    {
     "name": "stdout",
     "output_type": "stream",
     "text": [
      "Computing distances: 200 / 200 points.\r"
     ]
    },
    {
     "data": {
      "image/png": "[encoded data removed]",
      "text/plain": [
       "<Figure size 432x288 with 1 Axes>"
      ]
     },
     "metadata": {
      "needs_background": "light"
     },
     "output_type": "display_data"
    }
   ],
   "source": [
    "scales = []\n",
    "e0 = 0.002\n",
    "for i in range(1,41):\n",
    "    scales.append(e0)\n",
    "    e0 *= 1.3\n",
    "    \n",
    "count = estimators.count_scales(monkey1, scales, noboxes=True)\n",
    "    \n",
    "X = [log(x) for x in scales]\n",
    "Y = [log(y) if y>0 else -1 for y in count]\n",
    "\n",
    "plt.scatter(X,Y, zorder=10, color='red', marker=\"+\", linewidth=0.5)\n",
    "plt.plot(X, [Y[23]-0*X[23]+0*i for i in X], color=\"blue\", alpha=0.5, linewidth=0.5)\n",
    "plt.plot(X, [Y[23]-1*X[23]+1*i for i in X], color=\"blue\", alpha=1, linewidth=0.5)\n",
    "plt.plot(X, [Y[23]-2*X[23]+2*i for i in X], color=\"blue\", alpha=0.5, linewidth=0.5)\n",
    "\n",
    "plt.xlabel(r'$\\log(\\varepsilon_i)$', fontsize=20)\n",
    "plt.ylabel(r'$\\log(\\vert PX(\\epsilon_i)\\vert)$', fontsize=20)\n",
    "\n",
    "plt.tight_layout()\n",
    "plt.show()"
   ]
  },
  {
   "cell_type": "markdown",
   "id": "2293818d-6920-4853-babb-1a28fbbb1c55",
   "metadata": {},
   "source": [
    "Data set 2"
   ]
  },
  {
   "cell_type": "code",
   "execution_count": 16,
   "id": "6a4d3f55-34c5-478a-8566-61f52c1effcf",
   "metadata": {},
   "outputs": [
    {
     "name": "stdout",
     "output_type": "stream",
     "text": [
      "Computing distances: 200 / 200 points.\r"
     ]
    },
    {
     "data": {
      "image/png": "[encoded data removed]",
      "text/plain": [
       "<Figure size 432x288 with 1 Axes>"
      ]
     },
     "metadata": {
      "needs_background": "light"
     },
     "output_type": "display_data"
    }
   ],
   "source": [
    "scales = []\n",
    "e0 = 0.05\n",
    "for i in range(1,31):\n",
    "    scales.append(e0)\n",
    "    e0 *= 1.3\n",
    "    \n",
    "count = estimators.count_scales(monkey2, scales, noboxes=True)\n",
    "    \n",
    "X = [log(x) for x in scales]\n",
    "Y = [log(y) if y>0 else -1 for y in count]\n",
    "\n",
    "plt.scatter(X,Y, zorder=10, color='red', marker=\"+\", linewidth=0.5)\n",
    "plt.plot(X, [Y[17]-1*X[17]+1*i for i in X], color=\"blue\", alpha=0.5, linewidth=0.5)\n",
    "plt.plot(X, [Y[17]-2*X[17]+2*i for i in X], color=\"blue\", alpha=1, linewidth=0.5)\n",
    "plt.plot(X, [Y[17]-3*X[17]+3*i for i in X], color=\"blue\", alpha=0.5, linewidth=0.5)\n",
    "\n",
    "plt.xlabel(r'$\\log(\\varepsilon_i)$', fontsize=20)\n",
    "plt.ylabel(r'$\\log(\\vert PX(\\epsilon_i)\\vert)$', fontsize=20)\n",
    "\n",
    "plt.tight_layout()\n",
    "plt.show()"
   ]
  },
  {
   "cell_type": "markdown",
   "id": "70676b0a-defd-4368-a80f-c3720e497156",
   "metadata": {},
   "source": [
    "Data set 3"
   ]
  },
  {
   "cell_type": "code",
   "execution_count": 17,
   "id": "03f4bc8d-46ad-4f65-a70b-ce1b950baad2",
   "metadata": {},
   "outputs": [
    {
     "name": "stdout",
     "output_type": "stream",
     "text": [
      "Computing distances: 200 / 200 points.\r"
     ]
    },
    {
     "data": {
      "image/png": "[encoded data removed]",
      "text/plain": [
       "<Figure size 432x288 with 1 Axes>"
      ]
     },
     "metadata": {
      "needs_background": "light"
     },
     "output_type": "display_data"
    }
   ],
   "source": [
    "scales = []\n",
    "e0 = 0.2\n",
    "for i in range(1,31):\n",
    "    scales.append(e0)\n",
    "    e0 *= 1.2\n",
    "    \n",
    "count = estimators.count_scales(monkey3, scales, noboxes=True)\n",
    "    \n",
    "X = [log(x) for x in scales]\n",
    "Y = [log(y) if y>0 else -1 for y in count]\n",
    "\n",
    "plt.scatter(X,Y, zorder=10, color='red', marker=\"+\", linewidth=0.5)\n",
    "plt.plot(X, [Y[15]-2*X[15]+2*i for i in X], color=\"blue\", alpha=0.5, linewidth=0.5)\n",
    "plt.plot(X, [Y[15]-3*X[15]+3*i for i in X], color=\"blue\", alpha=1, linewidth=0.5)\n",
    "plt.plot(X, [Y[15]-4*X[15]+4*i for i in X], color=\"blue\", alpha=0.5, linewidth=0.5)\n",
    "\n",
    "plt.xlabel(r'$\\log(\\varepsilon_i)$', fontsize=20)\n",
    "plt.ylabel(r'$\\log(\\vert PX(\\epsilon_i)\\vert)$', fontsize=20)\n",
    "\n",
    "plt.tight_layout()\n",
    "plt.show()"
   ]
  }
 ],
 "metadata": {
  "kernelspec": {
   "display_name": "Python 3",
   "language": "python",
   "name": "python3"
  },
  "language_info": {
   "codemirror_mode": {
    "name": "ipython",
    "version": 3
   },
   "file_extension": ".py",
   "mimetype": "text/x-python",
   "name": "python",
   "nbconvert_exporter": "python",
   "pygments_lexer": "ipython3",
   "version": "3.6.9"
  }
 },
 "nbformat": 4,
 "nbformat_minor": 5
}
