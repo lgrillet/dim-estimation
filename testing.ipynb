{
 "cells": [
  {
   "cell_type": "code",
   "execution_count": 19,
   "id": "68335f18-6a8f-4f20-9063-74e307da8ef7",
   "metadata": {},
   "outputs": [],
   "source": [
    "import src.generators as generators\n",
    "import src.estimators as estimators\n",
    "from math import pi\n",
    "import pandas as pd"
   ]
  },
  {
   "cell_type": "code",
   "execution_count": 20,
   "id": "602a8663-f804-40cd-aa61-624334ad8cf5",
   "metadata": {},
   "outputs": [],
   "source": [
    "d = 4\n",
    "e1 = 0.54\n",
    "e2 = 0.23\n",
    "n = 3800\n",
    "repeat = 100"
   ]
  },
  {
   "cell_type": "markdown",
   "id": "5ddc508a-8d0b-4288-a0fb-8d4f1b2c1a9d",
   "metadata": {},
   "source": [
    "## 3800 points in a 4-dimensional Clifford torus (Total volume : 6234)"
   ]
  },
  {
   "cell_type": "code",
   "execution_count": 21,
   "id": "2301fe06-0742-41a3-9c9f-a1adb0d551db",
   "metadata": {},
   "outputs": [
    {
     "name": "stdout",
     "output_type": "stream",
     "text": [
      "Rate of success: 88.0 %\n"
     ]
    }
   ],
   "source": [
    "l1 = []\n",
    "count = 0\n",
    "for i in range(repeat):\n",
    "    cloud = generators.clifford_torus_sample(n, dimension=d, radii=[2,2,1,1])\n",
    "    r = estimators.corsum(cloud, e1, e2, mute=True)\n",
    "    l1.append(r)\n",
    "    if r>3.5 and r<4.5:\n",
    "        count += 1\n",
    "    print(\"Computing...\", 100*i/repeat, \"%\", end=\"\\r\")\n",
    "print(\"Rate of success:\", 100*count/repeat, \"%\")"
   ]
  },
  {
   "cell_type": "markdown",
   "id": "eb0e5d91-8252-4f3e-bae9-370567193a63",
   "metadata": {},
   "source": [
    "## 3800 points in the product of two revolution tori (Total volume : 6234)"
   ]
  },
  {
   "cell_type": "code",
   "execution_count": 22,
   "id": "bcd97cca-02cc-4424-bd15-9107cb1642c1",
   "metadata": {},
   "outputs": [
    {
     "name": "stdout",
     "output_type": "stream",
     "text": [
      "Rate of success: 95.0 %\n"
     ]
    }
   ],
   "source": [
    "l2 = []\n",
    "count = 0\n",
    "for i in range(repeat):\n",
    "    cloud = generators.torus_sample(n, dimension=d)\n",
    "    r = estimators.corsum(cloud, e1, e2, mute=True)\n",
    "    l2.append(r)\n",
    "    if r>3.5 and r<4.5:\n",
    "        count += 1\n",
    "    print(\"Computing...\", 100*i/repeat, \"%\", end=\"\\r\")\n",
    "print(\"Rate of success:\", 100*count/repeat, \"%\")"
   ]
  },
  {
   "cell_type": "markdown",
   "id": "eec91472-48ae-4b1f-ac6a-72c27c9825be",
   "metadata": {},
   "source": [
    "## 3800 points in the flat torus of dimension 4 (Total volume : 6234)"
   ]
  },
  {
   "cell_type": "code",
   "execution_count": 23,
   "id": "4fc09aba-403e-4083-959a-fcc2df6dbd47",
   "metadata": {},
   "outputs": [
    {
     "name": "stdout",
     "output_type": "stream",
     "text": [
      "Rate of success: 90.0 %\n"
     ]
    }
   ],
   "source": [
    "l3 = []\n",
    "count = 0\n",
    "for i in range(repeat):\n",
    "    cloud = generators.box_sample(n, dimension=d, maxima=[4*pi,4*pi,2*pi,2*pi])\n",
    "    r = estimators.corsum(cloud, e1, e2, torus=True, maxima=[4*pi,4*pi,2*pi,2*pi], mute=True)\n",
    "    l3.append(r)\n",
    "    if r>3.5 and r<4.5:\n",
    "        count += 1\n",
    "    print(\"Computing...\", 100*i/repeat, \"%\", end=\"\\r\")\n",
    "print(\"Rate of success:\", 100*count/repeat, \"%\")"
   ]
  }
 ],
 "metadata": {
  "kernelspec": {
   "display_name": "Python 3",
   "language": "python",
   "name": "python3"
  },
  "language_info": {
   "codemirror_mode": {
    "name": "ipython",
    "version": 3
   },
   "file_extension": ".py",
   "mimetype": "text/x-python",
   "name": "python",
   "nbconvert_exporter": "python",
   "pygments_lexer": "ipython3",
   "version": "3.8.2"
  }
 },
 "nbformat": 4,
 "nbformat_minor": 5
}
