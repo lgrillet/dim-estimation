{
 "cells": [
  {
   "cell_type": "code",
   "execution_count": 1,
   "id": "68335f18-6a8f-4f20-9063-74e307da8ef7",
   "metadata": {},
   "outputs": [],
   "source": [
    "import src.generators as generators\n",
    "import src.estimators as estimators\n",
    "from sklearn.datasets import make_swiss_roll\n",
    "from math import pi"
   ]
  },
  {
   "cell_type": "code",
   "execution_count": 2,
   "id": "602a8663-f804-40cd-aa61-624334ad8cf5",
   "metadata": {},
   "outputs": [],
   "source": [
    "repeat = 100  # number of repetitions"
   ]
  },
  {
   "cell_type": "markdown",
   "id": "5f514cf9-f31d-4ca8-ab95-8cd1644ae072",
   "metadata": {},
   "source": [
    "*The numbers may be different that what is in the article, as the data sets are randomized at every execution of the program.*"
   ]
  },
  {
   "cell_type": "markdown",
   "id": "8d33e6d3-4c18-4567-9858-9d0df25c0ffe",
   "metadata": {},
   "source": [
    "# Dimension 1"
   ]
  },
  {
   "cell_type": "markdown",
   "id": "14d55a92-4d5c-4722-bd64-b3f02e0b4185",
   "metadata": {},
   "source": [
    "## Worms"
   ]
  },
  {
   "cell_type": "markdown",
   "id": "f6b0a517-3d5f-43e3-8604-acdc9b8b2ed2",
   "metadata": {},
   "source": [
    "30 pairs"
   ]
  },
  {
   "cell_type": "code",
   "execution_count": 3,
   "id": "8980abbf-15b6-4dfb-8fd2-9a2e6d597dc2",
   "metadata": {},
   "outputs": [
    {
     "name": "stdout",
     "output_type": "stream",
     "text": [
      "Rate of success: 85.0 %\n"
     ]
    }
   ],
   "source": [
    "results = []\n",
    "for i in range(repeat):\n",
    "    cloud = generators.implicit_sample(\n",
    "        thickness=0.1,\n",
    "        maxima=[16,9],\n",
    "        n=1000,\n",
    "        dimension=2,\n",
    "        function=generators.perlin_2d(\n",
    "            grid_size=1,\n",
    "            x_max=16,\n",
    "            y_max=9,\n",
    "            seed=14))\n",
    "    r = estimators.corsum(cloud, e1=0.5*1.5, e2=0.5*0.19, pairs=30, mute=True)\n",
    "    results.append(r)\n",
    "    print(\"Computing...\", 100*i/repeat, \"%\", end=\"\\r\")\n",
    "    \n",
    "count = 0\n",
    "for r in results:\n",
    "    if r>0.5 and r<1.5:\n",
    "        count += 1\n",
    "print(\"Rate of success:\", 100*count/repeat, \"%\")"
   ]
  },
  {
   "cell_type": "markdown",
   "id": "e031965d-54db-41b2-9cb9-2f5be7445961",
   "metadata": {},
   "source": [
    "10 pairs"
   ]
  },
  {
   "cell_type": "code",
   "execution_count": 4,
   "id": "53fb65b5-b8b4-4ba7-9c83-293366fc1d3f",
   "metadata": {},
   "outputs": [
    {
     "name": "stdout",
     "output_type": "stream",
     "text": [
      "Rate of success: 76.0 %\n"
     ]
    }
   ],
   "source": [
    "results = []\n",
    "for i in range(repeat):\n",
    "    cloud = generators.implicit_sample(\n",
    "        thickness=0.1,\n",
    "        maxima=[16,9],\n",
    "        n=1000,\n",
    "        dimension=2,\n",
    "        function=generators.perlin_2d(\n",
    "            grid_size=1,\n",
    "            x_max=16,\n",
    "            y_max=9,\n",
    "            seed=14))\n",
    "    r = estimators.corsum(cloud, e1=0.5*1.5, e2=0.5*0.19, pairs=10, mute=True)\n",
    "    results.append(r)\n",
    "    print(\"Computing...\", 100*i/repeat, \"%\", end=\"\\r\")\n",
    "    \n",
    "count = 0\n",
    "for r in results:\n",
    "    if r>0.5 and r<1.5:\n",
    "        count += 1\n",
    "print(\"Rate of success:\", 100*count/repeat, \"%\")"
   ]
  },
  {
   "cell_type": "markdown",
   "id": "76902b8e-de24-4ad5-97d2-595e8090a17a",
   "metadata": {},
   "source": [
    "# Dimension 2"
   ]
  },
  {
   "cell_type": "markdown",
   "id": "ff7ea954-6181-4def-841d-b0087cf9a459",
   "metadata": {},
   "source": [
    "## Torus"
   ]
  },
  {
   "cell_type": "markdown",
   "id": "0425f686-252c-46cf-ad4d-197d82ac4518",
   "metadata": {},
   "source": [
    "122 pairs"
   ]
  },
  {
   "cell_type": "code",
   "execution_count": 5,
   "id": "39ec0aaa-d4c2-4c78-aab9-dce958610bbd",
   "metadata": {},
   "outputs": [
    {
     "name": "stdout",
     "output_type": "stream",
     "text": [
      "Rate of success: 91.0 %\n"
     ]
    }
   ],
   "source": [
    "results = []\n",
    "for i in range(repeat):\n",
    "    cloud = generators.torus_sample(n=1000, dimension=2)\n",
    "    r = estimators.corsum(cloud, e1=0.78, e2=0.2, pairs=122, mute=True)\n",
    "    results.append(r)\n",
    "    print(\"Computing...\", 100*i/repeat, \"%\", end=\"\\r\")\n",
    "    \n",
    "count = 0\n",
    "for r in results:\n",
    "    if r>1.5 and r<2.5:\n",
    "        count += 1\n",
    "print(\"Rate of success:\", 100*count/repeat, \"%\")"
   ]
  },
  {
   "cell_type": "markdown",
   "id": "799deeb1-6760-4ede-b4ad-a852f054841f",
   "metadata": {},
   "source": [
    "40 pairs"
   ]
  },
  {
   "cell_type": "code",
   "execution_count": 6,
   "id": "f1015d71-0ea9-454c-81bc-30097273e7aa",
   "metadata": {},
   "outputs": [
    {
     "name": "stdout",
     "output_type": "stream",
     "text": [
      "Rate of success: 65.0 %0 %\n"
     ]
    }
   ],
   "source": [
    "results = []\n",
    "for i in range(repeat):\n",
    "    cloud = generators.torus_sample(n=1000, dimension=2)\n",
    "    r = estimators.corsum(cloud, e1=0.78, e2=0.2, pairs=40, mute=True)\n",
    "    results.append(r)\n",
    "    print(\"Computing...\", 100*i/repeat, \"%\", end=\"\\r\")\n",
    "    \n",
    "count = 0\n",
    "for r in results:\n",
    "    if r>1.5 and r<2.5:\n",
    "        count += 1\n",
    "print(\"Rate of success:\", 100*count/repeat, \"%\")"
   ]
  },
  {
   "cell_type": "markdown",
   "id": "ef117613-9b37-4271-9e5c-53ddaee2f741",
   "metadata": {},
   "source": [
    "## Clifford torus"
   ]
  },
  {
   "cell_type": "markdown",
   "id": "ebe1cea3-4bf7-4207-918a-8d41b7504bf4",
   "metadata": {},
   "source": [
    "122 pairs"
   ]
  },
  {
   "cell_type": "code",
   "execution_count": 7,
   "id": "3358c01c-86ff-4545-8c77-dc749a29927a",
   "metadata": {},
   "outputs": [
    {
     "name": "stdout",
     "output_type": "stream",
     "text": [
      "Rate of success: 92.0 %\n"
     ]
    }
   ],
   "source": [
    "results = []\n",
    "for i in range(repeat):\n",
    "    cloud = generators.clifford_torus_sample(n=1000, dimension=2)\n",
    "    r = estimators.corsum(cloud, e1=0.78, e2=0.2, pairs=122, mute=True)\n",
    "    results.append(r)\n",
    "    print(\"Computing...\", 100*i/repeat, \"%\", end=\"\\r\")\n",
    "    \n",
    "count = 0\n",
    "for r in results:\n",
    "    if r>1.5 and r<2.5:\n",
    "        count += 1\n",
    "print(\"Rate of success:\", 100*count/repeat, \"%\")"
   ]
  },
  {
   "cell_type": "markdown",
   "id": "a20f3de6-d223-4f89-b1fa-252f3bd59e06",
   "metadata": {},
   "source": [
    "40 pairs"
   ]
  },
  {
   "cell_type": "code",
   "execution_count": 8,
   "id": "29b93667-8445-44cc-b9cd-48514fb82168",
   "metadata": {},
   "outputs": [
    {
     "name": "stdout",
     "output_type": "stream",
     "text": [
      "Rate of success: 72.0 %\n"
     ]
    }
   ],
   "source": [
    "results = []\n",
    "for i in range(repeat):\n",
    "    cloud = generators.clifford_torus_sample(n=1000, dimension=2)\n",
    "    r = estimators.corsum(cloud, e1=0.78, e2=0.2, pairs=40, mute=True)\n",
    "    results.append(r)\n",
    "    print(\"Computing...\", 100*i/repeat, \"%\", end=\"\\r\")\n",
    "    \n",
    "count = 0\n",
    "for r in results:\n",
    "    if r>1.5 and r<2.5:\n",
    "        count += 1\n",
    "print(\"Rate of success:\", 100*count/repeat, \"%\")"
   ]
  },
  {
   "cell_type": "markdown",
   "id": "3d070b0a-ea98-4776-b741-f926331eff8b",
   "metadata": {},
   "source": [
    "## Flat torus"
   ]
  },
  {
   "cell_type": "markdown",
   "id": "f6f95130-47be-4e55-b0cb-f44835e28daf",
   "metadata": {},
   "source": [
    "122 pairs"
   ]
  },
  {
   "cell_type": "code",
   "execution_count": 9,
   "id": "d728f9b4-f2ab-4f20-89c3-465e08747f6b",
   "metadata": {},
   "outputs": [
    {
     "name": "stdout",
     "output_type": "stream",
     "text": [
      "Rate of success: 88.0 %\n"
     ]
    }
   ],
   "source": [
    "results = []\n",
    "for i in range(repeat):\n",
    "    cloud = generators.box_sample(n=1000, dimension=2, maxima=[2*pi,2*pi])\n",
    "    r = estimators.corsum(cloud, e1=0.78, e2=0.2, pairs=122, torus=True, maxima=[2*pi,2*pi], mute=True)\n",
    "    results.append(r)\n",
    "    print(\"Computing...\", 100*i/repeat, \"%\", end=\"\\r\")\n",
    "    \n",
    "count = 0\n",
    "for r in results:\n",
    "    if r>1.5 and r<2.5:\n",
    "        count += 1\n",
    "print(\"Rate of success:\", 100*count/repeat, \"%\")"
   ]
  },
  {
   "cell_type": "markdown",
   "id": "5034eed7-bafb-4baf-92d1-421662b374ce",
   "metadata": {},
   "source": [
    "40 pairs"
   ]
  },
  {
   "cell_type": "code",
   "execution_count": 10,
   "id": "43d46d55-1ae3-4c42-9068-efb3811971d3",
   "metadata": {},
   "outputs": [
    {
     "name": "stdout",
     "output_type": "stream",
     "text": [
      "Rate of success: 70.0 %\n"
     ]
    }
   ],
   "source": [
    "results = []\n",
    "for i in range(repeat):\n",
    "    cloud = generators.box_sample(n=1000, dimension=2, maxima=[2*pi,2*pi])\n",
    "    r = estimators.corsum(cloud, e1=0.78, e2=0.2, pairs=40, torus=True, maxima=[2*pi,2*pi], mute=True)\n",
    "    results.append(r)\n",
    "    print(\"Computing...\", 100*i/repeat, \"%\", end=\"\\r\")\n",
    "    \n",
    "count = 0\n",
    "for r in results:\n",
    "    if r>1.5 and r<2.5:\n",
    "        count += 1\n",
    "print(\"Rate of success:\", 100*count/repeat, \"%\")"
   ]
  },
  {
   "cell_type": "markdown",
   "id": "0a676c4f-5ef8-4214-8f20-deb1a3e22d81",
   "metadata": {},
   "source": [
    "## Swiss roll (reach 5)"
   ]
  },
  {
   "cell_type": "markdown",
   "id": "8507b1d5-b44a-4bff-a722-0f5fa845f932",
   "metadata": {},
   "source": [
    "122 pairs"
   ]
  },
  {
   "cell_type": "code",
   "execution_count": 11,
   "id": "7a14b9c2-ec50-4d07-92a2-d26d25233a79",
   "metadata": {},
   "outputs": [
    {
     "name": "stdout",
     "output_type": "stream",
     "text": [
      "Rate of success: 92.0 %\n"
     ]
    }
   ],
   "source": [
    "results = []\n",
    "for i in range(repeat):\n",
    "    cloud, color = make_swiss_roll(n_samples=1000)\n",
    "    r = estimators.corsum(cloud, e1=5*0.78, e2=5*0.2, pairs=122, mute=True)\n",
    "    results.append(r)\n",
    "    print(\"Computing...\", 100*i/repeat, \"%\", end=\"\\r\")\n",
    "    \n",
    "count = 0\n",
    "for r in results:\n",
    "    if r>1.5 and r<2.5:\n",
    "        count += 1\n",
    "print(\"Rate of success:\", 100*count/repeat, \"%\")"
   ]
  },
  {
   "cell_type": "markdown",
   "id": "1374ea98-510f-43d6-a428-0b2d3f424390",
   "metadata": {},
   "source": [
    "40 pairs"
   ]
  },
  {
   "cell_type": "code",
   "execution_count": 12,
   "id": "3e9673b5-be75-4a32-adb5-65c1944e6752",
   "metadata": {},
   "outputs": [
    {
     "name": "stdout",
     "output_type": "stream",
     "text": [
      "Rate of success: 71.0 %\n"
     ]
    }
   ],
   "source": [
    "results = []\n",
    "for i in range(repeat):\n",
    "    cloud, color = make_swiss_roll(n_samples=1000)\n",
    "    r = estimators.corsum(cloud, e1=5*0.78, e2=5*0.2, pairs=40, mute=True)\n",
    "    results.append(r)\n",
    "    print(\"Computing...\", 100*i/repeat, \"%\", end=\"\\r\")\n",
    "    \n",
    "count = 0\n",
    "for r in results:\n",
    "    if r>1.5 and r<2.5:\n",
    "        count += 1\n",
    "print(\"Rate of success:\", 100*count/repeat, \"%\")"
   ]
  },
  {
   "cell_type": "markdown",
   "id": "bcf28ea8-bc48-45a2-a5c1-2ee84fe2459a",
   "metadata": {},
   "source": [
    "## Schwarz surface"
   ]
  },
  {
   "cell_type": "markdown",
   "id": "b28a7e6c-66fe-4da4-aa23-55eb01fb4b6d",
   "metadata": {},
   "source": [
    "122 pairs"
   ]
  },
  {
   "cell_type": "code",
   "execution_count": 13,
   "id": "736b3b23-5dc5-48a3-ab61-905a2b10ce71",
   "metadata": {},
   "outputs": [
    {
     "name": "stdout",
     "output_type": "stream",
     "text": [
      "Rate of success: 92.0 %\n"
     ]
    }
   ],
   "source": [
    "results = []\n",
    "for i in range(repeat):\n",
    "    cloud = generators.implicit_sample(\n",
    "        n=1000, \n",
    "        dimension=3, \n",
    "        maxima=[4,4,4], \n",
    "        thickness=0.02, \n",
    "        function=generators.schwarz)\n",
    "    r = estimators.corsum(cloud, e1=0.78, e2=0.2, pairs=122, torus=True, maxima=[4,4,4], mute=True)\n",
    "    results.append(r)\n",
    "    print(\"Computing...\", 100*i/repeat, \"%\", end=\"\\r\")\n",
    "    \n",
    "count = 0\n",
    "for r in results:\n",
    "    if r>1.5 and r<2.5:\n",
    "        count += 1\n",
    "print(\"Rate of success:\", 100*count/repeat, \"%\")"
   ]
  },
  {
   "cell_type": "markdown",
   "id": "0dd802b7-90a1-4c95-8ad6-9866d261bbb9",
   "metadata": {},
   "source": [
    "40 pairs"
   ]
  },
  {
   "cell_type": "code",
   "execution_count": 14,
   "id": "f7ab100e-5367-4180-b2e9-128b10a67321",
   "metadata": {},
   "outputs": [
    {
     "name": "stdout",
     "output_type": "stream",
     "text": [
      "Rate of success: 72.0 %\n"
     ]
    }
   ],
   "source": [
    "results = []\n",
    "for i in range(repeat):\n",
    "    cloud = generators.implicit_sample(\n",
    "        n=1000, \n",
    "        dimension=3, \n",
    "        maxima=[4,4,4], \n",
    "        thickness=0.02, \n",
    "        function=generators.schwarz)\n",
    "    r = estimators.corsum(cloud, e1=0.78, e2=0.2, pairs=40, torus=True, maxima=[4,4,4], mute=True)\n",
    "    results.append(r)\n",
    "    print(\"Computing...\", 100*i/repeat, \"%\", end=\"\\r\")\n",
    "    \n",
    "count = 0\n",
    "for r in results:\n",
    "    if r>1.5 and r<2.5:\n",
    "        count += 1\n",
    "print(\"Rate of success:\", 100*count/repeat, \"%\")"
   ]
  },
  {
   "cell_type": "markdown",
   "id": "e751a688-2570-4e40-804e-a5d691bfa4f0",
   "metadata": {},
   "source": [
    "# Dimension 3"
   ]
  },
  {
   "cell_type": "markdown",
   "id": "032a01c5-15c7-405b-9459-38347f78f112",
   "metadata": {},
   "source": [
    "## 3-Sphere"
   ]
  },
  {
   "cell_type": "markdown",
   "id": "6b3c37e9-6c65-4a98-afa1-8b64a323be28",
   "metadata": {},
   "source": [
    "249 pairs"
   ]
  },
  {
   "cell_type": "code",
   "execution_count": 15,
   "id": "7ecd9f59-03d9-4092-afb3-b88f3e73c620",
   "metadata": {},
   "outputs": [
    {
     "name": "stdout",
     "output_type": "stream",
     "text": [
      "Rate of success: 95.0 %\n"
     ]
    }
   ],
   "source": [
    "results = []\n",
    "for i in range(repeat):\n",
    "    cloud = generators.sphere_sample(n=1000, dimension=3)\n",
    "    r = estimators.corsum(cloud, e1=0.63, e2=0.23, pairs=249, mute=True)\n",
    "    results.append(r)\n",
    "    print(\"Computing...\", 100*i/repeat, \"%\", end=\"\\r\")\n",
    "    \n",
    "count = 0\n",
    "for r in results:\n",
    "    if r>2.5 and r<3.5:\n",
    "        count += 1\n",
    "print(\"Rate of success:\", 100*count/repeat, \"%\")"
   ]
  },
  {
   "cell_type": "markdown",
   "id": "b40e09b1-088b-4c91-80d7-7d9b9f3e49d3",
   "metadata": {},
   "source": [
    "111 pairs"
   ]
  },
  {
   "cell_type": "code",
   "execution_count": 16,
   "id": "8aa0d84b-c2b8-49a4-a606-dc3a33e12f1a",
   "metadata": {},
   "outputs": [
    {
     "name": "stdout",
     "output_type": "stream",
     "text": [
      "Rate of success: 75.0 %\n"
     ]
    }
   ],
   "source": [
    "results = []\n",
    "for i in range(repeat):\n",
    "    cloud = generators.sphere_sample(n=1000, dimension=3)\n",
    "    r = estimators.corsum(cloud, e1=0.63, e2=0.23, pairs=111, mute=True)\n",
    "    results.append(r)\n",
    "    print(\"Computing...\", 100*i/repeat, \"%\", end=\"\\r\")\n",
    "    \n",
    "count = 0\n",
    "for r in results:\n",
    "    if r>2.5 and r<3.5:\n",
    "        count += 1\n",
    "print(\"Rate of success:\", 100*count/repeat, \"%\")"
   ]
  },
  {
   "cell_type": "markdown",
   "id": "561cb793-cde1-4490-9de5-f341283099ac",
   "metadata": {},
   "source": [
    "# Dimension 4"
   ]
  },
  {
   "cell_type": "markdown",
   "id": "882c5413-28cb-4325-8160-cedae45dd27c",
   "metadata": {},
   "source": [
    "## 4-Sphere"
   ]
  },
  {
   "cell_type": "markdown",
   "id": "3b55799d-027f-40b4-a128-3a1afc5f290e",
   "metadata": {},
   "source": [
    "513 pairs"
   ]
  },
  {
   "cell_type": "code",
   "execution_count": 17,
   "id": "0dfc0ed8-3e68-4ff9-9394-747352987de1",
   "metadata": {},
   "outputs": [
    {
     "name": "stdout",
     "output_type": "stream",
     "text": [
      "Rate of success: 95.0 %\n"
     ]
    }
   ],
   "source": [
    "results = []\n",
    "for i in range(repeat):\n",
    "    cloud = generators.sphere_sample(n=1000, dimension=4)\n",
    "    r = estimators.corsum(cloud, e1=0.54, e2=0.23, pairs=516, mute=True)\n",
    "    results.append(r)\n",
    "    print(\"Computing...\", 100*i/repeat, \"%\", end=\"\\r\")\n",
    "    \n",
    "count = 0\n",
    "for r in results:\n",
    "    if r>3.5 and r<4.5:\n",
    "        count += 1\n",
    "print(\"Rate of success:\", 100*count/repeat, \"%\")"
   ]
  },
  {
   "cell_type": "markdown",
   "id": "664f77ed-da7c-449a-98ad-5f24f93d6c7a",
   "metadata": {},
   "source": [
    "238 pairs"
   ]
  },
  {
   "cell_type": "code",
   "execution_count": 18,
   "id": "bef32e60-5b8f-4eec-b6f9-f8ba4e224b10",
   "metadata": {},
   "outputs": [
    {
     "name": "stdout",
     "output_type": "stream",
     "text": [
      "Rate of success: 79.0 %\n"
     ]
    }
   ],
   "source": [
    "results = []\n",
    "for i in range(repeat):\n",
    "    cloud = generators.sphere_sample(n=1000, dimension=4)\n",
    "    r = estimators.corsum(cloud, e1=0.54, e2=0.23, pairs=238, mute=True)\n",
    "    results.append(r)\n",
    "    print(\"Computing...\", 100*i/repeat, \"%\", end=\"\\r\")\n",
    "    \n",
    "count = 0\n",
    "for r in results:\n",
    "    if r>3.5 and r<4.5:\n",
    "        count += 1\n",
    "print(\"Rate of success:\", 100*count/repeat, \"%\")"
   ]
  },
  {
   "cell_type": "markdown",
   "id": "75b72885-aeb4-4c58-a520-0cd7d2f71b72",
   "metadata": {},
   "source": [
    "## Product of two tori"
   ]
  },
  {
   "cell_type": "markdown",
   "id": "97429334-a5e3-4a4f-91a7-98b6d341b0e3",
   "metadata": {},
   "source": [
    "516 pairs"
   ]
  },
  {
   "cell_type": "code",
   "execution_count": 19,
   "id": "bcd97cca-02cc-4424-bd15-9107cb1642c1",
   "metadata": {},
   "outputs": [
    {
     "name": "stdout",
     "output_type": "stream",
     "text": [
      "Rate of success: 94.0 %\n"
     ]
    }
   ],
   "source": [
    "results = []\n",
    "for i in range(repeat):\n",
    "    cloud = generators.torus_sample(n=5000, dimension=4)\n",
    "    r = estimators.corsum(cloud, e1=0.54, e2=0.23, pairs=516, mute=True)\n",
    "    results.append(r)\n",
    "    print(\"Computing...\", 100*i/repeat, \"%\", end=\"\\r\")\n",
    "    \n",
    "count = 0\n",
    "for r in results:\n",
    "    if r>3.5 and r<4.5:\n",
    "        count += 1\n",
    "print(\"Rate of success:\", 100*count/repeat, \"%\")"
   ]
  },
  {
   "cell_type": "markdown",
   "id": "a937ceb3-3794-4a7b-952f-9ceb40c1040c",
   "metadata": {},
   "source": [
    "238 pairs"
   ]
  },
  {
   "cell_type": "code",
   "execution_count": 20,
   "id": "3d7da69d-58c6-4bc6-a6b2-2268d414e2d6",
   "metadata": {},
   "outputs": [
    {
     "name": "stdout",
     "output_type": "stream",
     "text": [
      "Rate of success: 78.0 %\n"
     ]
    }
   ],
   "source": [
    "results = []\n",
    "for i in range(repeat):\n",
    "    cloud = generators.torus_sample(n=5000, dimension=4)\n",
    "    r = estimators.corsum(cloud, e1=0.54, e2=0.23, pairs=238, mute=True)\n",
    "    results.append(r)\n",
    "    print(\"Computing...\", 100*i/repeat, \"%\", end=\"\\r\")\n",
    "    \n",
    "count = 0\n",
    "for r in results:\n",
    "    if r>3.5 and r<4.5:\n",
    "        count += 1\n",
    "print(\"Rate of success:\", 100*count/repeat, \"%\")"
   ]
  },
  {
   "cell_type": "markdown",
   "id": "fb051979-4ab2-4578-b798-7d63fb0fe9fa",
   "metadata": {},
   "source": [
    "## Clifford torus"
   ]
  },
  {
   "cell_type": "markdown",
   "id": "b86a1b28-4473-420b-a676-cff97953589f",
   "metadata": {},
   "source": [
    "513 pairs"
   ]
  },
  {
   "cell_type": "code",
   "execution_count": 21,
   "id": "2301fe06-0742-41a3-9c9f-a1adb0d551db",
   "metadata": {},
   "outputs": [
    {
     "name": "stdout",
     "output_type": "stream",
     "text": [
      "Rate of success: 92.0 %\n"
     ]
    }
   ],
   "source": [
    "results = []\n",
    "for i in range(repeat):\n",
    "    cloud = generators.clifford_torus_sample(n=5000, dimension=4)\n",
    "    r = estimators.corsum(cloud, e1=0.54, e2=0.23, pairs=516, mute=True)\n",
    "    results.append(r)\n",
    "    print(\"Computing...\", 100*i/repeat, \"%\", end=\"\\r\")\n",
    "    \n",
    "count = 0\n",
    "for r in results:\n",
    "    if r>3.5 and r<4.5:\n",
    "        count += 1\n",
    "print(\"Rate of success:\", 100*count/repeat, \"%\")"
   ]
  },
  {
   "cell_type": "markdown",
   "id": "ca4d9b41-5e59-4e57-869d-6c5626d116b9",
   "metadata": {},
   "source": [
    "238 pairs"
   ]
  },
  {
   "cell_type": "code",
   "execution_count": 25,
   "id": "60daff1d-5df8-4d7b-856f-7bae90b771b7",
   "metadata": {},
   "outputs": [
    {
     "name": "stdout",
     "output_type": "stream",
     "text": [
      "Rate of success: 77.0 %\n"
     ]
    }
   ],
   "source": [
    "results = []\n",
    "for i in range(repeat):\n",
    "    cloud = generators.clifford_torus_sample(n=5000, dimension=4)\n",
    "    r = estimators.corsum(cloud, e1=0.54, e2=0.23, pairs=238, mute=True)\n",
    "    results.append(r)\n",
    "    print(\"Computing...\", 100*i/repeat, \"%\", end=\"\\r\")\n",
    "    \n",
    "count = 0\n",
    "for r in results:\n",
    "    if r>3.5 and r<4.5:\n",
    "        count += 1\n",
    "print(\"Rate of success:\", 100*count/repeat, \"%\")"
   ]
  },
  {
   "cell_type": "markdown",
   "id": "5a5222bf-af9b-42db-93f4-4b9942b8294a",
   "metadata": {},
   "source": [
    "## Flat torus"
   ]
  },
  {
   "cell_type": "markdown",
   "id": "4a607f08-bdf0-4ecc-a5a8-9b2249b930f7",
   "metadata": {},
   "source": [
    "513 pairs"
   ]
  },
  {
   "cell_type": "code",
   "execution_count": 26,
   "id": "25b35c3d-79fd-4b55-a4fc-3e6dc2111745",
   "metadata": {},
   "outputs": [
    {
     "name": "stdout",
     "output_type": "stream",
     "text": [
      "Rate of success: 94.0 %\n"
     ]
    }
   ],
   "source": [
    "results = []\n",
    "for i in range(repeat):\n",
    "    cloud = generators.box_sample(n=5000, dimension=4, maxima=[2*pi,2*pi,2*pi,2*pi])\n",
    "    r = estimators.corsum(cloud, e1=0.54, e2=0.23, pairs=516, torus=True, maxima=[2*pi,2*pi,2*pi,2*pi], mute=True)\n",
    "    results.append(r)\n",
    "    print(\"Computing...\", 100*i/repeat, \"%\", end=\"\\r\")\n",
    "    \n",
    "count = 0\n",
    "for r in results:\n",
    "    if r>3.5 and r<4.5:\n",
    "        count += 1\n",
    "print(\"Rate of success:\", 100*count/repeat, \"%\")"
   ]
  },
  {
   "cell_type": "markdown",
   "id": "8cca8e04-8697-4cf7-a632-c030367033ce",
   "metadata": {},
   "source": [
    "238 pairs"
   ]
  },
  {
   "cell_type": "code",
   "execution_count": 27,
   "id": "4fc09aba-403e-4083-959a-fcc2df6dbd47",
   "metadata": {},
   "outputs": [
    {
     "name": "stdout",
     "output_type": "stream",
     "text": [
      "Rate of success: 76.0 %\n"
     ]
    }
   ],
   "source": [
    "results = []\n",
    "for i in range(repeat):\n",
    "    cloud = generators.box_sample(n=5000, dimension=4, maxima=[2*pi,2*pi,2*pi,2*pi])\n",
    "    r = estimators.corsum(cloud, e1=0.54, e2=0.23, pairs=238, torus=True, maxima=[2*pi,2*pi,2*pi,2*pi], mute=True)\n",
    "    results.append(r)\n",
    "    print(\"Computing...\", 100*i/repeat, \"%\", end=\"\\r\")\n",
    "    \n",
    "count = 0\n",
    "for r in results:\n",
    "    if r>3.5 and r<4.5:\n",
    "        count += 1\n",
    "print(\"Rate of success:\", 100*count/repeat, \"%\")"
   ]
  },
  {
   "cell_type": "markdown",
   "id": "ffa0ccc1-f2dd-4f64-aafa-37a15e35e8bf",
   "metadata": {},
   "source": [
    "## Product of two Schwarz surfaces"
   ]
  },
  {
   "cell_type": "code",
   "execution_count": 28,
   "id": "c2c4d7a2-0f38-4da7-84a8-b70eed5b3e92",
   "metadata": {},
   "outputs": [
    {
     "name": "stdout",
     "output_type": "stream",
     "text": [
      "Rate of success: 95.0 %\n"
     ]
    }
   ],
   "source": [
    "results = []\n",
    "for i in range(repeat):\n",
    "    cloud1 = generators.implicit_sample(\n",
    "        n=3000, \n",
    "        dimension=3, \n",
    "        maxima=[4,4,4], \n",
    "        thickness=0.02, \n",
    "        function=generators.schwarz)\n",
    "    cloud2 = generators.implicit_sample(\n",
    "        n=3000, \n",
    "        dimension=3, \n",
    "        maxima=[4,4,4], \n",
    "        thickness=0.02, \n",
    "        function=generators.schwarz)\n",
    "    cloud = generators.cloud_product(cloud1, cloud2)\n",
    "    r = estimators.corsum(cloud, e1=0.54, e2=0.23, pairs=516, torus=True, maxima=[4,4,4,4,4,4], mute=True)\n",
    "    results.append(r)\n",
    "    print(\"Computing...\", 100*i/repeat, \"%\", end=\"\\r\")\n",
    "    \n",
    "count = 0\n",
    "for r in results:\n",
    "    if r>3.5 and r<4.5:\n",
    "        count += 1\n",
    "print(\"Rate of success:\", 100*count/repeat, \"%\")"
   ]
  },
  {
   "cell_type": "code",
   "execution_count": 29,
   "id": "ac5482e0-62ea-473c-8ecf-480b5015cf0c",
   "metadata": {},
   "outputs": [
    {
     "name": "stdout",
     "output_type": "stream",
     "text": [
      "Rate of success: 75.0 %\n"
     ]
    }
   ],
   "source": [
    "results = []\n",
    "for i in range(repeat):\n",
    "    cloud1 = generators.implicit_sample(\n",
    "        n=3000, \n",
    "        dimension=3, \n",
    "        maxima=[4,4,4], \n",
    "        thickness=0.02, \n",
    "        function=generators.schwarz)\n",
    "    cloud2 = generators.implicit_sample(\n",
    "        n=3000, \n",
    "        dimension=3, \n",
    "        maxima=[4,4,4], \n",
    "        thickness=0.02, \n",
    "        function=generators.schwarz)\n",
    "    cloud = generators.cloud_product(cloud1, cloud2)\n",
    "    r = estimators.corsum(cloud, e1=0.54, e2=0.23, pairs=238, torus=True, maxima=[4,4,4,4,4,4], mute=True)\n",
    "    results.append(r)\n",
    "    print(\"Computing...\", 100*i/repeat, \"%\", end=\"\\r\")\n",
    "    \n",
    "count = 0\n",
    "for r in results:\n",
    "    if r>3.5 and r<4.5:\n",
    "        count += 1\n",
    "print(\"Rate of success:\", 100*count/repeat, \"%\")"
   ]
  },
  {
   "cell_type": "markdown",
   "id": "02ad7bb9-c94d-4745-8194-cdd04439c69a",
   "metadata": {},
   "source": [
    "## Gaussian distribution"
   ]
  },
  {
   "cell_type": "markdown",
   "id": "65746421-1641-4ce4-8710-ff97479610ff",
   "metadata": {},
   "source": [
    "516 pairs"
   ]
  },
  {
   "cell_type": "code",
   "execution_count": 30,
   "id": "ce7b291c-ecd9-4ab9-9a8a-148006d494ed",
   "metadata": {},
   "outputs": [
    {
     "name": "stdout",
     "output_type": "stream",
     "text": [
      "Rate of success: 96.0 %\n"
     ]
    }
   ],
   "source": [
    "results = []\n",
    "for i in range(repeat):\n",
    "    cloud = generators.gaussian_sample(n=3000, dimension=4, sigmas=[1,1,1,1])\n",
    "    r = estimators.corsum(cloud, e1=0.54, e2=0.23, pairs=516, mute=True)\n",
    "    results.append(r)\n",
    "    print(\"Computing...\", 100*i/repeat, \"%\", end=\"\\r\")\n",
    "    \n",
    "count = 0\n",
    "for r in results:\n",
    "    if r>3.5 and r<4.5:\n",
    "        count += 1\n",
    "print(\"Rate of success:\", 100*count/repeat, \"%\")"
   ]
  },
  {
   "cell_type": "markdown",
   "id": "1d78051b-e207-4d52-9be5-0381ae9c0d5e",
   "metadata": {},
   "source": [
    "238 pairs"
   ]
  },
  {
   "cell_type": "code",
   "execution_count": 31,
   "id": "cbb5421d-45c4-4696-8046-39cada550cca",
   "metadata": {},
   "outputs": [
    {
     "name": "stdout",
     "output_type": "stream",
     "text": [
      "Rate of success: 76.0 %\n"
     ]
    }
   ],
   "source": [
    "results = []\n",
    "for i in range(repeat):\n",
    "    cloud = generators.gaussian_sample(n=3000, dimension=4, sigmas=[1,1,1,1])\n",
    "    r = estimators.corsum(cloud, e1=0.54, e2=0.23, pairs=238, mute=True)\n",
    "    results.append(r)\n",
    "    print(\"Computing...\", 100*i/repeat, \"%\", end=\"\\r\")\n",
    "    \n",
    "count = 0\n",
    "for r in results:\n",
    "    if r>3.5 and r<4.5:\n",
    "        count += 1\n",
    "print(\"Rate of success:\", 100*count/repeat, \"%\")"
   ]
  },
  {
   "cell_type": "markdown",
   "id": "c220c89f-bb98-444a-9aaa-ecc9eb177c05",
   "metadata": {},
   "source": [
    "# Dimension 5"
   ]
  },
  {
   "cell_type": "markdown",
   "id": "ae2dbe98-e120-409a-94a6-f7edfe707f3f",
   "metadata": {},
   "source": [
    "## 5-sphere"
   ]
  },
  {
   "cell_type": "markdown",
   "id": "2fe55f79-4d83-403e-bc78-a68320122c54",
   "metadata": {},
   "source": [
    "878 pairs"
   ]
  },
  {
   "cell_type": "code",
   "execution_count": 32,
   "id": "e1a39aa8-1186-4085-87ce-35083644e1dc",
   "metadata": {},
   "outputs": [
    {
     "name": "stdout",
     "output_type": "stream",
     "text": [
      "Rate of success: 90.0 %\n"
     ]
    }
   ],
   "source": [
    "results = []\n",
    "for i in range(repeat):\n",
    "    cloud = generators.sphere_sample(n=3000, dimension=5)\n",
    "    r = estimators.corsum(cloud, e1=0.46, e2=0.22, pairs=878, mute=True)\n",
    "    results.append(r)\n",
    "    print(\"Computing...\", 100*i/repeat, \"%\", end=\"\\r\")\n",
    "    \n",
    "count = 0\n",
    "for r in results:\n",
    "    if r>4.5 and r<5.5:\n",
    "        count += 1\n",
    "print(\"Rate of success:\", 100*count/repeat, \"%\")"
   ]
  },
  {
   "cell_type": "markdown",
   "id": "b5600dad-9834-4bb0-ac4a-9389e54f6406",
   "metadata": {},
   "source": [
    "360 pairs"
   ]
  },
  {
   "cell_type": "code",
   "execution_count": 33,
   "id": "2a0be936-5b08-4663-9d37-5c5c401f3f15",
   "metadata": {},
   "outputs": [
    {
     "name": "stdout",
     "output_type": "stream",
     "text": [
      "Rate of success: 72.0 %\n"
     ]
    }
   ],
   "source": [
    "results = []\n",
    "for i in range(repeat):\n",
    "    cloud = generators.sphere_sample(n=3000, dimension=5)\n",
    "    r = estimators.corsum(cloud, e1=0.46, e2=0.22, pairs=360, mute=True)\n",
    "    results.append(r)\n",
    "    print(\"Computing...\", 100*i/repeat, \"%\", end=\"\\r\")\n",
    "    \n",
    "count = 0\n",
    "for r in results:\n",
    "    if r>4.5 and r<5.5:\n",
    "        count += 1\n",
    "print(\"Rate of success:\", 100*count/repeat, \"%\")"
   ]
  },
  {
   "cell_type": "markdown",
   "id": "be9578af-e9d7-47b6-a533-a94a02ae8fe5",
   "metadata": {},
   "source": [
    "# Testing with a given number of points"
   ]
  },
  {
   "cell_type": "markdown",
   "id": "46d98bed-23df-4bbb-9d98-8af967ad6e09",
   "metadata": {},
   "source": [
    "3948 points in the product of two tori"
   ]
  },
  {
   "cell_type": "code",
   "execution_count": 34,
   "id": "d57540bb-42b0-46fd-b80c-810387f55b31",
   "metadata": {},
   "outputs": [
    {
     "name": "stdout",
     "output_type": "stream",
     "text": [
      "Rate of success: 91.0 %\n"
     ]
    }
   ],
   "source": [
    "results = []\n",
    "for i in range(repeat):\n",
    "    cloud = generators.torus_sample(n=3948, dimension=4)\n",
    "    r = estimators.corsum(cloud, e1=0.54, e2=0.23, mute=True)\n",
    "    results.append(r)\n",
    "    print(\"Computing...\", 100*i/repeat, \"%\", end=\"\\r\")\n",
    "    \n",
    "count = 0\n",
    "for r in results:\n",
    "    if r>3.5 and r<4.5:\n",
    "        count += 1\n",
    "print(\"Rate of success:\", 100*count/repeat, \"%\")"
   ]
  },
  {
   "cell_type": "markdown",
   "id": "cae23223-e29a-4d33-a4d8-c49ab955b568",
   "metadata": {},
   "source": [
    "1974 points in a flat torus of dimension 4"
   ]
  },
  {
   "cell_type": "code",
   "execution_count": 35,
   "id": "a1eb60ea-7006-427c-88c5-6a9ffa311a8f",
   "metadata": {},
   "outputs": [
    {
     "name": "stdout",
     "output_type": "stream",
     "text": [
      "Rate of success: 95.0 %\n"
     ]
    }
   ],
   "source": [
    "results = []\n",
    "for i in range(repeat):\n",
    "    cloud = generators.box_sample(n=1974, dimension=4, maxima=[2*pi,2*pi,2*pi,2*pi])\n",
    "    r = estimators.corsum(cloud, e1=0.54, e2=0.23, torus=True, maxima=[2*pi,2*pi,2*pi,2*pi], mute=True)\n",
    "    results.append(r)\n",
    "    print(\"Computing...\", 100*i/repeat, \"%\", end=\"\\r\")\n",
    "    \n",
    "count = 0\n",
    "for r in results:\n",
    "    if r>3.5 and r<4.5:\n",
    "        count += 1\n",
    "print(\"Rate of success:\", 100*count/repeat, \"%\")"
   ]
  },
  {
   "cell_type": "markdown",
   "id": "478a0354-30e6-4d3e-93fa-cd465dd17919",
   "metadata": {},
   "source": [
    "98 points in a sphere of dimension 3"
   ]
  },
  {
   "cell_type": "code",
   "execution_count": 36,
   "id": "9fcdd6b6-d741-466b-804d-a653c55d2388",
   "metadata": {},
   "outputs": [
    {
     "name": "stdout",
     "output_type": "stream",
     "text": [
      "Rate of success: 94.0 %%\n"
     ]
    }
   ],
   "source": [
    "results = []\n",
    "for i in range(repeat):\n",
    "    cloud = generators.sphere_sample(n=98, dimension=3)\n",
    "    r = estimators.corsum(cloud, e1=0.63, e2=0.23, mute=True)\n",
    "    results.append(r)\n",
    "    print(\"Computing...\", 100*i/repeat, \"%\", end=\"\\r\")\n",
    "    \n",
    "count = 0\n",
    "for r in results:\n",
    "    if r>2.5 and r<3.5:\n",
    "        count += 1\n",
    "print(\"Rate of success:\", 100*count/repeat, \"%\")"
   ]
  },
  {
   "cell_type": "markdown",
   "id": "adbe8423-56df-4d6c-9134-3eb9c6fa37a0",
   "metadata": {},
   "source": [
    "76 points in a sphere of dimension 3"
   ]
  },
  {
   "cell_type": "code",
   "execution_count": 37,
   "id": "15e8a35d-3cfe-4655-b81a-3581a2cbc9a0",
   "metadata": {},
   "outputs": [
    {
     "name": "stdout",
     "output_type": "stream",
     "text": [
      "Rate of success: 90.0 %\n"
     ]
    }
   ],
   "source": [
    "results = []\n",
    "for i in range(repeat):\n",
    "    cloud = generators.clifford_torus_sample(n=76, dimension=2)\n",
    "    r = estimators.corsum(cloud, e1=0.78, e2=0.2, mute=True)\n",
    "    results.append(r)\n",
    "    print(\"Computing...\", 100*i/repeat, \"%\", end=\"\\r\")\n",
    "    \n",
    "count = 0\n",
    "for r in results:\n",
    "    if r>1.5 and r<2.5:\n",
    "        count += 1\n",
    "print(\"Rate of success:\", 100*count/repeat, \"%\")"
   ]
  },
  {
   "cell_type": "markdown",
   "id": "a17a7ec8-304c-43a7-8b77-c90fa1112ab0",
   "metadata": {},
   "source": [
    "# Other scales"
   ]
  },
  {
   "cell_type": "code",
   "execution_count": 38,
   "id": "f9687b37-362e-4e9e-b267-795cbe6c9e80",
   "metadata": {},
   "outputs": [
    {
     "name": "stdout",
     "output_type": "stream",
     "text": [
      "Rate of success: 98.0 %\n"
     ]
    }
   ],
   "source": [
    "results = []\n",
    "for i in range(repeat):\n",
    "    cloud = generators.torus_sample(n=1000, dimension=4)\n",
    "    r = estimators.corsum(cloud, 1.6, 0.6, mute=True)\n",
    "    results.append(r)\n",
    "    print(\"Computing...\", 100*i/repeat, \"%\", end=\"\\r\")\n",
    "    \n",
    "count = 0\n",
    "for r in results:\n",
    "    if r>3.5 and r<4.5:\n",
    "        count += 1\n",
    "print(\"Rate of success:\", 100*count/repeat, \"%\")"
   ]
  },
  {
   "cell_type": "code",
   "execution_count": 39,
   "id": "9559e7e5-507c-44e2-a26a-1c2d91f2b714",
   "metadata": {},
   "outputs": [
    {
     "name": "stdout",
     "output_type": "stream",
     "text": [
      "Rate of success: 38.0 %\n"
     ]
    }
   ],
   "source": [
    "results = []\n",
    "for i in range(repeat):\n",
    "    cloud = generators.torus_sample(n=1000, dimension=4)\n",
    "    r = estimators.corsum(cloud, 0.54, 0.23, mute=True)\n",
    "    results.append(r)\n",
    "    print(\"Computing...\", 100*i/repeat, \"%\", end=\"\\r\")\n",
    "    \n",
    "count = 0\n",
    "for r in results:\n",
    "    if r>3.5 and r<4.5:\n",
    "        count += 1\n",
    "print(\"Rate of success:\", 100*count/repeat, \"%\")"
   ]
  },
  {
   "cell_type": "code",
   "execution_count": 40,
   "id": "1eda8a27-a317-4ba2-80f7-8a35f6f2f729",
   "metadata": {},
   "outputs": [
    {
     "name": "stdout",
     "output_type": "stream",
     "text": [
      "Rate of success: 48.0 %\n"
     ]
    }
   ],
   "source": [
    "results = []\n",
    "for i in range(repeat):\n",
    "    cloud = generators.sphere_sample(n=100, dimension=4)\n",
    "    r = estimators.corsum(cloud, 1.6, 0.6, mute=True)\n",
    "    results.append(r)\n",
    "    print(\"Computing...\", 100*i/repeat, \"%\", end=\"\\r\")\n",
    "    \n",
    "count = 0\n",
    "for r in results:\n",
    "    if r>3.5 and r<4.5:\n",
    "        count += 1\n",
    "print(\"Rate of success:\", 100*count/repeat, \"%\")"
   ]
  },
  {
   "cell_type": "code",
   "execution_count": 41,
   "id": "9e2729c9-104e-4ba0-af76-77f141609fd4",
   "metadata": {},
   "outputs": [
    {
     "name": "stdout",
     "output_type": "stream",
     "text": [
      "Rate of success: 90.0 %\n"
     ]
    }
   ],
   "source": [
    "results = []\n",
    "for i in range(repeat):\n",
    "    cloud = generators.sphere_sample(n=100, dimension=4)\n",
    "    r = estimators.corsum(cloud, 1, 0.6, mute=True)\n",
    "    results.append(r)\n",
    "    print(\"Computing...\", 100*i/repeat, \"%\", end=\"\\r\")\n",
    "    \n",
    "count = 0\n",
    "for r in results:\n",
    "    if r>3.5 and r<4.5:\n",
    "        count += 1\n",
    "print(\"Rate of success:\", 100*count/repeat, \"%\")"
   ]
  }
 ],
 "metadata": {
  "kernelspec": {
   "display_name": "Python 3",
   "language": "python",
   "name": "python3"
  },
  "language_info": {
   "codemirror_mode": {
    "name": "ipython",
    "version": 3
   },
   "file_extension": ".py",
   "mimetype": "text/x-python",
   "name": "python",
   "nbconvert_exporter": "python",
   "pygments_lexer": "ipython3",
   "version": "3.6.9"
  }
 },
 "nbformat": 4,
 "nbformat_minor": 5
}
