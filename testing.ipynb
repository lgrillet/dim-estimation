{
 "cells": [
  {
   "cell_type": "code",
   "execution_count": 2,
   "id": "68335f18-6a8f-4f20-9063-74e307da8ef7",
   "metadata": {},
   "outputs": [],
   "source": [
    "import src.generators as generators\n",
    "import src.estimators as estimators\n",
    "from math import pi\n",
    "import pandas as pd"
   ]
  },
  {
   "cell_type": "markdown",
   "id": "1332e731-35d4-4211-81b6-cabcbd73201a",
   "metadata": {},
   "source": [
    "## 1900 points in 61 4-spheres of radius 1 (Total volume : 1605)"
   ]
  },
  {
   "cell_type": "code",
   "execution_count": 2,
   "id": "b8fa1ccf-65ea-4e06-a57f-3d8b6e07469b",
   "metadata": {},
   "outputs": [
    {
     "name": "stdout",
     "output_type": "stream",
     "text": [
      "Rate of success: 88.0 %\n"
     ]
    }
   ],
   "source": [
    "repeat = 100\n",
    "count = 0\n",
    "for i in range(repeat):\n",
    "    cloud = generators.sphere_sample(N=1950, dimension=4, copies=61)\n",
    "    r = estimators.corsum(cloud, e1=0.53, e2=0.23, mute=True)\n",
    "    if r>3.5 and r<4.5:\n",
    "        count += 1\n",
    "    print(\"Loading...\", 100*i/repeat, \"%\", end=\"\\r\")\n",
    "print(\"Rate of success:\", 100*count/repeat, \"%\")"
   ]
  },
  {
   "cell_type": "markdown",
   "id": "6624e229-0e76-47de-88ae-6f988846cfc7",
   "metadata": {},
   "source": [
    "## 1900 points in a 4-sphere of radius 2.8 (Total volume : 1618)"
   ]
  },
  {
   "cell_type": "code",
   "execution_count": 3,
   "id": "6474cbb6-f96f-401d-8f46-65c6f54d0717",
   "metadata": {},
   "outputs": [
    {
     "name": "stdout",
     "output_type": "stream",
     "text": [
      "Rate of success: 90.0 %\n"
     ]
    }
   ],
   "source": [
    "repeat = 100\n",
    "count = 0\n",
    "for i in range(repeat):\n",
    "    cloud = generators.sphere_sample(N=1900, dimension=4, radius=2.8)\n",
    "    r = estimators.corsum(cloud, e1=0.53, e2=0.23, mute=True)\n",
    "    if r>3.5 and r<4.5:\n",
    "        count += 1\n",
    "    print(\"Loading...\", 100*i/repeat, \"%\", end=\"\\r\")\n",
    "print(\"Rate of success:\", 100*count/repeat, \"%\")"
   ]
  },
  {
   "cell_type": "markdown",
   "id": "5ddc508a-8d0b-4288-a0fb-8d4f1b2c1a9d",
   "metadata": {},
   "source": [
    "## 3800 points in a 4-dimensional Clifford torus (Total volume : 6234)"
   ]
  },
  {
   "cell_type": "code",
   "execution_count": 5,
   "id": "2301fe06-0742-41a3-9c9f-a1adb0d551db",
   "metadata": {},
   "outputs": [
    {
     "name": "stdout",
     "output_type": "stream",
     "text": [
      "Rate of success: 86.0 %\n"
     ]
    }
   ],
   "source": [
    "repeat = 100\n",
    "l1 = []\n",
    "count = 0\n",
    "for i in range(repeat):\n",
    "    cloud = generators.clifford_torus_sample(N=3800, dimension=4, radii=[2,2,1,1])\n",
    "    r = estimators.corsum(cloud, e1=0.53, e2=0.23, mute=True)\n",
    "    l1.append(r)\n",
    "    if r>3.5 and r<4.5:\n",
    "        count += 1\n",
    "    print(\"Computing...\", 100*i/repeat, \"%\", end=\"\\r\")\n",
    "print(\"Rate of success:\", 100*count/repeat, \"%\")"
   ]
  },
  {
   "cell_type": "markdown",
   "id": "eb0e5d91-8252-4f3e-bae9-370567193a63",
   "metadata": {},
   "source": [
    "## 3800 points in the product of two revolution tori (Total volume : 6234)"
   ]
  },
  {
   "cell_type": "code",
   "execution_count": 6,
   "id": "bcd97cca-02cc-4424-bd15-9107cb1642c1",
   "metadata": {},
   "outputs": [
    {
     "name": "stdout",
     "output_type": "stream",
     "text": [
      "Rate of success: 89.0 %\n"
     ]
    }
   ],
   "source": [
    "repeat = 100\n",
    "l2 = []\n",
    "count = 0\n",
    "for i in range(repeat):\n",
    "    cloud = generators.torus_sample(N=3800, dimension=4)\n",
    "    r = estimators.corsum(cloud, e1=0.53, e2=0.23, mute=True)\n",
    "    l2.append(r)\n",
    "    if r>3.5 and r<4.5:\n",
    "        count += 1\n",
    "    print(\"Computing...\", 100*i/repeat, \"%\", end=\"\\r\")\n",
    "print(\"Rate of success:\", 100*count/repeat, \"%\")"
   ]
  },
  {
   "cell_type": "markdown",
   "id": "eec91472-48ae-4b1f-ac6a-72c27c9825be",
   "metadata": {},
   "source": [
    "## 3800 points in the flat torus of dimension 4 (Total volume : 6234)"
   ]
  },
  {
   "cell_type": "code",
   "execution_count": 7,
   "id": "4fc09aba-403e-4083-959a-fcc2df6dbd47",
   "metadata": {},
   "outputs": [
    {
     "name": "stdout",
     "output_type": "stream",
     "text": [
      "Rate of success: 86.0 %\n"
     ]
    }
   ],
   "source": [
    "repeat = 100\n",
    "l3 = []\n",
    "count = 0\n",
    "for i in range(repeat):\n",
    "    cloud = generators.box_sample(N=3800, dimension=4, maxima=[4*pi,4*pi,2*pi,2*pi])\n",
    "    r = estimators.corsum(cloud, e1=0.53, e2=0.23, torus=True, maxima=[4*pi,4*pi,2*pi,2*pi], mute=True)\n",
    "    l3.append(r)\n",
    "    if r>3.5 and r<4.5:\n",
    "        count += 1\n",
    "    print(\"Computing...\", 100*i/repeat, \"%\", end=\"\\r\")\n",
    "print(\"Rate of success:\", 100*count/repeat, \"%\")"
   ]
  },
  {
   "cell_type": "markdown",
   "id": "e01829de-16f9-4403-8b38-ce0868cb3f1a",
   "metadata": {},
   "source": [
    "## Comparison of variances"
   ]
  },
  {
   "cell_type": "code",
   "execution_count": 8,
   "id": "2d677ee3-4b14-493f-9094-bccdfacb6c10",
   "metadata": {},
   "outputs": [
    {
     "data": {
      "text/plain": [
       "0.11574034175576901"
      ]
     },
     "execution_count": 8,
     "metadata": {},
     "output_type": "execute_result"
    }
   ],
   "source": [
    "m = sum(x for x in l1)/100\n",
    "v = sum((x-m)**2 for x in l1)/100\n",
    "v"
   ]
  },
  {
   "cell_type": "code",
   "execution_count": 9,
   "id": "280cb917-b85b-4c91-91bc-8e9eb724aaac",
   "metadata": {},
   "outputs": [
    {
     "data": {
      "text/plain": [
       "0.09569264478369954"
      ]
     },
     "execution_count": 9,
     "metadata": {},
     "output_type": "execute_result"
    }
   ],
   "source": [
    "m = sum(x for x in l2)/100\n",
    "v = sum((x-m)**2 for x in l2)/100\n",
    "v"
   ]
  },
  {
   "cell_type": "code",
   "execution_count": 10,
   "id": "cc980ea0-104c-4f07-9980-4f996de854e8",
   "metadata": {},
   "outputs": [
    {
     "data": {
      "text/plain": [
       "0.1039271597822232"
      ]
     },
     "execution_count": 10,
     "metadata": {},
     "output_type": "execute_result"
    }
   ],
   "source": [
    "m = sum(x for x in l3)/100\n",
    "v = sum((x-m)**2 for x in l3)/100\n",
    "v"
   ]
  },
  {
   "cell_type": "code",
   "execution_count": null,
   "id": "6566b896-a539-4e36-9dd9-f73c99070d72",
   "metadata": {},
   "outputs": [],
   "source": []
  }
 ],
 "metadata": {
  "kernelspec": {
   "display_name": "Python 3",
   "language": "python",
   "name": "python3"
  },
  "language_info": {
   "codemirror_mode": {
    "name": "ipython",
    "version": 3
   },
   "file_extension": ".py",
   "mimetype": "text/x-python",
   "name": "python",
   "nbconvert_exporter": "python",
   "pygments_lexer": "ipython3",
   "version": "3.8.2"
  }
 },
 "nbformat": 4,
 "nbformat_minor": 5
}
