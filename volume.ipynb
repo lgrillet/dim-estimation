{
 "cells": [
  {
   "cell_type": "code",
   "execution_count": 1,
   "id": "68335f18-6a8f-4f20-9063-74e307da8ef7",
   "metadata": {},
   "outputs": [],
   "source": [
    "import src.generators as generators\n",
    "import src.estimators as estimators\n",
    "from math import sqrt"
   ]
  },
  {
   "cell_type": "markdown",
   "id": "1332e731-35d4-4211-81b6-cabcbd73201a",
   "metadata": {},
   "source": [
    "## Number of pairs with 2340 points in a 4-sphere of radius 3 (Total volume : 2132)"
   ]
  },
  {
   "cell_type": "markdown",
   "id": "b47f73c2-1ed3-494b-8918-0590255d898c",
   "metadata": {},
   "source": [
    "As a 4-dimensional Euclidean ball of radius 0.53 is of volume B=0.39, the number of pairs of points at distance at most 0.53 in a sample of n=2340 points in a manifold of volume V=2132 should be approximately\n",
    "$$\\dfrac{n^2}{2}\\dfrac{B}{V}=\\dfrac{2340^2}{2}\\dfrac{0.39}{2132}=500.$$"
   ]
  },
  {
   "cell_type": "code",
   "execution_count": 2,
   "id": "b8fa1ccf-65ea-4e06-a57f-3d8b6e07469b",
   "metadata": {},
   "outputs": [
    {
     "name": "stdout",
     "output_type": "stream",
     "text": [
      "There are 548 pairs of points at distance at most 0.54\n",
      "There are 20 pairs of points at distance at most 0.23\n",
      "The correlation dimension is 3.878831234498111\n"
     ]
    }
   ],
   "source": [
    "cloud = generators.sphere_sample(n=2340, dimension=4, radius=3)\n",
    "dimension = estimators.corsum(cloud, e1=0.54, e2=0.23)"
   ]
  },
  {
   "cell_type": "markdown",
   "id": "5034f000-a284-4451-bc4e-906cbfde501f",
   "metadata": {},
   "source": [
    "In this example, we obtain 513 pairs of points at distance at most 0.53, which is close to what we expected."
   ]
  },
  {
   "cell_type": "markdown",
   "id": "fd4be0b9-b5a0-470d-b11c-d983a1d41ef4",
   "metadata": {},
   "source": [
    "## Statistics over 100 repetitions"
   ]
  },
  {
   "cell_type": "code",
   "execution_count": 3,
   "id": "df18a38f-1129-4f64-a436-23e9e27610c5",
   "metadata": {},
   "outputs": [
    {
     "name": "stdout",
     "output_type": "stream",
     "text": [
      "Mean number of pairs: 536.25\n",
      "Standard deviation: 23.33082724637084\n"
     ]
    }
   ],
   "source": [
    "repeat = 100\n",
    "pairs = []\n",
    "for i in range(repeat):\n",
    "    cloud = generators.sphere_sample(n=2340, dimension=4, radius=3)\n",
    "    c1, c2, d = estimators.corsum(cloud, e1=0.54, e2=0.23, full_output=True, mute=True)\n",
    "    pairs.append(c1)\n",
    "    print(\"Loading...\", 100*i/repeat, \"%\", end=\"\\r\")\n",
    "    \n",
    "m = sum(x for x in pairs)/repeat\n",
    "print(\"Mean number of pairs:\", m)\n",
    "\n",
    "stdev = sqrt( sum( (x-m)**2 for x in pairs)/repeat )\n",
    "print(\"Standard deviation:\", stdev)"
   ]
  },
  {
   "cell_type": "code",
   "execution_count": 4,
   "id": "67ed9230-d2ed-4ae1-b5e4-0f3ec468fc26",
   "metadata": {},
   "outputs": [
    {
     "name": "stdout",
     "output_type": "stream",
     "text": [
      "Median: 534\n",
      "25% quartiles: 521 551\n",
      "10% quartiles: 509 574\n"
     ]
    }
   ],
   "source": [
    "pairs.sort()\n",
    "print(\"Median:\", pairs[50])\n",
    "print(\"25% quartiles:\", pairs[25], pairs[75])\n",
    "print(\"10% quartiles:\", pairs[10], pairs[90])"
   ]
  },
  {
   "cell_type": "markdown",
   "id": "341bda86-62aa-448b-9c64-bab5e26961fa",
   "metadata": {},
   "source": [
    "## Estimating the volume"
   ]
  },
  {
   "cell_type": "code",
   "execution_count": 7,
   "id": "e3403964-52d0-45c1-8565-71c4553f00f0",
   "metadata": {},
   "outputs": [
    {
     "name": "stdout",
     "output_type": "stream",
     "text": [
      "Estimation of the volume: 2126.0671314741035\n"
     ]
    }
   ],
   "source": [
    "cloud = generators.sphere_sample(n=2340, dimension=4, radius=3)\n",
    "c1, c2, dimension = estimators.corsum(cloud, e1=0.54, e2=0.23, full_output=True, mute=True)\n",
    "\n",
    "volume = 2340 * 2339 * 0.39 / (2 * c1)\n",
    "print(\"Estimation of the volume:\", volume)"
   ]
  },
  {
   "cell_type": "code",
   "execution_count": null,
   "id": "2b011a0a-2341-43ee-a2f7-d56a339449f0",
   "metadata": {},
   "outputs": [],
   "source": []
  }
 ],
 "metadata": {
  "kernelspec": {
   "display_name": "Python 3",
   "language": "python",
   "name": "python3"
  },
  "language_info": {
   "codemirror_mode": {
    "name": "ipython",
    "version": 3
   },
   "file_extension": ".py",
   "mimetype": "text/x-python",
   "name": "python",
   "nbconvert_exporter": "python",
   "pygments_lexer": "ipython3",
   "version": "3.8.2"
  }
 },
 "nbformat": 4,
 "nbformat_minor": 5
}
